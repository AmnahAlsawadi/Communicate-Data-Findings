{
 "cells": [
  {
   "cell_type": "markdown",
   "metadata": {
    "slideshow": {
     "slide_type": "slide"
    }
   },
   "source": [
    "# (Ford GoBike System Data Exploration )\n",
    "## by (Amnah)\n",
    "\n",
    "## Investigation Overview\n",
    "> In this project, the Ford GoBike dataset will be used to apply the concept of data visualization\n",
    "\n",
    "## Dataset Overview\n",
    "\n",
    "> Ford GoBike is a regional public bicycle sharing system in California's San Francisco Bay Area. The GoBike dataset was collected from 2017 to 2019. The dataset includes all the information about each trip, such as trip duration, the start and end time for the trip, the station id, name, and the coordination for the location. In this system, there is to type of user, either customer or subscriber, which is included in the dataset also as one of the variables. "
   ]
  },
  {
   "cell_type": "code",
   "execution_count": 2,
   "metadata": {
    "slideshow": {
     "slide_type": "skip"
    }
   },
   "outputs": [],
   "source": [
    "# import all packages and set plots to be embedded inline\n",
    "import numpy as np\n",
    "import pandas as pd\n",
    "import matplotlib.pyplot as plt\n",
    "import seaborn as sb\n",
    "\n",
    "\n",
    "%matplotlib inline"
   ]
  },
  {
   "cell_type": "code",
   "execution_count": 3,
   "metadata": {
    "slideshow": {
     "slide_type": "skip"
    }
   },
   "outputs": [],
   "source": [
    "# Load the ford go bike dataset\n",
    "df = pd.read_csv('2017-fordgobike-tripdata.csv')"
   ]
  },
  {
   "cell_type": "code",
   "execution_count": 4,
   "metadata": {
    "slideshow": {
     "slide_type": "skip"
    }
   },
   "outputs": [
    {
     "data": {
      "text/html": [
       "<div>\n",
       "<style scoped>\n",
       "    .dataframe tbody tr th:only-of-type {\n",
       "        vertical-align: middle;\n",
       "    }\n",
       "\n",
       "    .dataframe tbody tr th {\n",
       "        vertical-align: top;\n",
       "    }\n",
       "\n",
       "    .dataframe thead th {\n",
       "        text-align: right;\n",
       "    }\n",
       "</style>\n",
       "<table border=\"1\" class=\"dataframe\">\n",
       "  <thead>\n",
       "    <tr style=\"text-align: right;\">\n",
       "      <th></th>\n",
       "      <th>duration_sec</th>\n",
       "      <th>start_time</th>\n",
       "      <th>end_time</th>\n",
       "      <th>start_station_id</th>\n",
       "      <th>start_station_name</th>\n",
       "      <th>start_station_latitude</th>\n",
       "      <th>start_station_longitude</th>\n",
       "      <th>end_station_id</th>\n",
       "      <th>end_station_name</th>\n",
       "      <th>end_station_latitude</th>\n",
       "      <th>end_station_longitude</th>\n",
       "      <th>bike_id</th>\n",
       "      <th>user_type</th>\n",
       "    </tr>\n",
       "  </thead>\n",
       "  <tbody>\n",
       "    <tr>\n",
       "      <th>0</th>\n",
       "      <td>80110</td>\n",
       "      <td>2017-12-31 16:57:39.6540</td>\n",
       "      <td>2018-01-01 15:12:50.2450</td>\n",
       "      <td>74</td>\n",
       "      <td>Laguna St at Hayes St</td>\n",
       "      <td>37.776435</td>\n",
       "      <td>-122.426244</td>\n",
       "      <td>43</td>\n",
       "      <td>San Francisco Public Library (Grove St at Hyde...</td>\n",
       "      <td>37.778768</td>\n",
       "      <td>-122.415929</td>\n",
       "      <td>96</td>\n",
       "      <td>Customer</td>\n",
       "    </tr>\n",
       "    <tr>\n",
       "      <th>1</th>\n",
       "      <td>78800</td>\n",
       "      <td>2017-12-31 15:56:34.8420</td>\n",
       "      <td>2018-01-01 13:49:55.6170</td>\n",
       "      <td>284</td>\n",
       "      <td>Yerba Buena Center for the Arts (Howard St at ...</td>\n",
       "      <td>37.784872</td>\n",
       "      <td>-122.400876</td>\n",
       "      <td>96</td>\n",
       "      <td>Dolores St at 15th St</td>\n",
       "      <td>37.766210</td>\n",
       "      <td>-122.426614</td>\n",
       "      <td>88</td>\n",
       "      <td>Customer</td>\n",
       "    </tr>\n",
       "    <tr>\n",
       "      <th>2</th>\n",
       "      <td>45768</td>\n",
       "      <td>2017-12-31 22:45:48.4110</td>\n",
       "      <td>2018-01-01 11:28:36.8830</td>\n",
       "      <td>245</td>\n",
       "      <td>Downtown Berkeley BART</td>\n",
       "      <td>37.870348</td>\n",
       "      <td>-122.267764</td>\n",
       "      <td>245</td>\n",
       "      <td>Downtown Berkeley BART</td>\n",
       "      <td>37.870348</td>\n",
       "      <td>-122.267764</td>\n",
       "      <td>1094</td>\n",
       "      <td>Customer</td>\n",
       "    </tr>\n",
       "    <tr>\n",
       "      <th>3</th>\n",
       "      <td>62172</td>\n",
       "      <td>2017-12-31 17:31:10.6360</td>\n",
       "      <td>2018-01-01 10:47:23.5310</td>\n",
       "      <td>60</td>\n",
       "      <td>8th St at Ringold St</td>\n",
       "      <td>37.774520</td>\n",
       "      <td>-122.409449</td>\n",
       "      <td>5</td>\n",
       "      <td>Powell St BART Station (Market St at 5th St)</td>\n",
       "      <td>37.783899</td>\n",
       "      <td>-122.408445</td>\n",
       "      <td>2831</td>\n",
       "      <td>Customer</td>\n",
       "    </tr>\n",
       "    <tr>\n",
       "      <th>4</th>\n",
       "      <td>43603</td>\n",
       "      <td>2017-12-31 14:23:14.0010</td>\n",
       "      <td>2018-01-01 02:29:57.5710</td>\n",
       "      <td>239</td>\n",
       "      <td>Bancroft Way at Telegraph Ave</td>\n",
       "      <td>37.868813</td>\n",
       "      <td>-122.258764</td>\n",
       "      <td>247</td>\n",
       "      <td>Fulton St at Bancroft Way</td>\n",
       "      <td>37.867789</td>\n",
       "      <td>-122.265896</td>\n",
       "      <td>3167</td>\n",
       "      <td>Subscriber</td>\n",
       "    </tr>\n",
       "    <tr>\n",
       "      <th>5</th>\n",
       "      <td>9226</td>\n",
       "      <td>2017-12-31 22:51:00.9180</td>\n",
       "      <td>2018-01-01 01:24:47.1660</td>\n",
       "      <td>30</td>\n",
       "      <td>San Francisco Caltrain (Townsend St at 4th St)</td>\n",
       "      <td>37.776598</td>\n",
       "      <td>-122.395282</td>\n",
       "      <td>30</td>\n",
       "      <td>San Francisco Caltrain (Townsend St at 4th St)</td>\n",
       "      <td>37.776598</td>\n",
       "      <td>-122.395282</td>\n",
       "      <td>1487</td>\n",
       "      <td>Customer</td>\n",
       "    </tr>\n",
       "  </tbody>\n",
       "</table>\n",
       "</div>"
      ],
      "text/plain": [
       "   duration_sec                start_time                  end_time  \\\n",
       "0         80110  2017-12-31 16:57:39.6540  2018-01-01 15:12:50.2450   \n",
       "1         78800  2017-12-31 15:56:34.8420  2018-01-01 13:49:55.6170   \n",
       "2         45768  2017-12-31 22:45:48.4110  2018-01-01 11:28:36.8830   \n",
       "3         62172  2017-12-31 17:31:10.6360  2018-01-01 10:47:23.5310   \n",
       "4         43603  2017-12-31 14:23:14.0010  2018-01-01 02:29:57.5710   \n",
       "5          9226  2017-12-31 22:51:00.9180  2018-01-01 01:24:47.1660   \n",
       "\n",
       "   start_station_id                                 start_station_name  \\\n",
       "0                74                              Laguna St at Hayes St   \n",
       "1               284  Yerba Buena Center for the Arts (Howard St at ...   \n",
       "2               245                             Downtown Berkeley BART   \n",
       "3                60                               8th St at Ringold St   \n",
       "4               239                      Bancroft Way at Telegraph Ave   \n",
       "5                30     San Francisco Caltrain (Townsend St at 4th St)   \n",
       "\n",
       "   start_station_latitude  start_station_longitude  end_station_id  \\\n",
       "0               37.776435              -122.426244              43   \n",
       "1               37.784872              -122.400876              96   \n",
       "2               37.870348              -122.267764             245   \n",
       "3               37.774520              -122.409449               5   \n",
       "4               37.868813              -122.258764             247   \n",
       "5               37.776598              -122.395282              30   \n",
       "\n",
       "                                    end_station_name  end_station_latitude  \\\n",
       "0  San Francisco Public Library (Grove St at Hyde...             37.778768   \n",
       "1                              Dolores St at 15th St             37.766210   \n",
       "2                             Downtown Berkeley BART             37.870348   \n",
       "3       Powell St BART Station (Market St at 5th St)             37.783899   \n",
       "4                          Fulton St at Bancroft Way             37.867789   \n",
       "5     San Francisco Caltrain (Townsend St at 4th St)             37.776598   \n",
       "\n",
       "   end_station_longitude  bike_id   user_type  \n",
       "0            -122.415929       96    Customer  \n",
       "1            -122.426614       88    Customer  \n",
       "2            -122.267764     1094    Customer  \n",
       "3            -122.408445     2831    Customer  \n",
       "4            -122.265896     3167  Subscriber  \n",
       "5            -122.395282     1487    Customer  "
      ]
     },
     "execution_count": 4,
     "metadata": {},
     "output_type": "execute_result"
    }
   ],
   "source": [
    "# Show the dataset\n",
    "df.head(6)"
   ]
  },
  {
   "cell_type": "code",
   "execution_count": 5,
   "metadata": {
    "slideshow": {
     "slide_type": "skip"
    }
   },
   "outputs": [
    {
     "data": {
      "text/html": [
       "<div>\n",
       "<style scoped>\n",
       "    .dataframe tbody tr th:only-of-type {\n",
       "        vertical-align: middle;\n",
       "    }\n",
       "\n",
       "    .dataframe tbody tr th {\n",
       "        vertical-align: top;\n",
       "    }\n",
       "\n",
       "    .dataframe thead th {\n",
       "        text-align: right;\n",
       "    }\n",
       "</style>\n",
       "<table border=\"1\" class=\"dataframe\">\n",
       "  <thead>\n",
       "    <tr style=\"text-align: right;\">\n",
       "      <th></th>\n",
       "      <th>duration_sec</th>\n",
       "      <th>start_time</th>\n",
       "      <th>end_time</th>\n",
       "      <th>start_station_id</th>\n",
       "      <th>start_station_name</th>\n",
       "      <th>start_station_latitude</th>\n",
       "      <th>start_station_longitude</th>\n",
       "      <th>end_station_id</th>\n",
       "      <th>end_station_name</th>\n",
       "      <th>end_station_latitude</th>\n",
       "      <th>end_station_longitude</th>\n",
       "      <th>bike_id</th>\n",
       "      <th>user_type</th>\n",
       "    </tr>\n",
       "  </thead>\n",
       "  <tbody>\n",
       "    <tr>\n",
       "      <th>519694</th>\n",
       "      <td>730</td>\n",
       "      <td>2017-06-28 09:58:33.6690</td>\n",
       "      <td>2017-06-28 10:10:44.2130</td>\n",
       "      <td>23</td>\n",
       "      <td>The Embarcadero at Steuart St</td>\n",
       "      <td>37.791464</td>\n",
       "      <td>-122.391034</td>\n",
       "      <td>44</td>\n",
       "      <td>Civic Center/UN Plaza BART Station (Market St ...</td>\n",
       "      <td>37.781074</td>\n",
       "      <td>-122.411738</td>\n",
       "      <td>272</td>\n",
       "      <td>Subscriber</td>\n",
       "    </tr>\n",
       "    <tr>\n",
       "      <th>519695</th>\n",
       "      <td>435</td>\n",
       "      <td>2017-06-28 10:00:54.5280</td>\n",
       "      <td>2017-06-28 10:08:10.4380</td>\n",
       "      <td>81</td>\n",
       "      <td>Berry St at 4th St</td>\n",
       "      <td>37.775880</td>\n",
       "      <td>-122.393170</td>\n",
       "      <td>45</td>\n",
       "      <td>5th St at Howard St</td>\n",
       "      <td>37.781752</td>\n",
       "      <td>-122.405127</td>\n",
       "      <td>400</td>\n",
       "      <td>Subscriber</td>\n",
       "    </tr>\n",
       "    <tr>\n",
       "      <th>519696</th>\n",
       "      <td>431</td>\n",
       "      <td>2017-06-28 09:56:39.6310</td>\n",
       "      <td>2017-06-28 10:03:51.0900</td>\n",
       "      <td>66</td>\n",
       "      <td>3rd St at Townsend St</td>\n",
       "      <td>37.778742</td>\n",
       "      <td>-122.392741</td>\n",
       "      <td>321</td>\n",
       "      <td>5th at Folsom</td>\n",
       "      <td>37.780146</td>\n",
       "      <td>-122.403071</td>\n",
       "      <td>316</td>\n",
       "      <td>Subscriber</td>\n",
       "    </tr>\n",
       "    <tr>\n",
       "      <th>519697</th>\n",
       "      <td>424</td>\n",
       "      <td>2017-06-28 09:47:36.3470</td>\n",
       "      <td>2017-06-28 09:54:41.1870</td>\n",
       "      <td>21</td>\n",
       "      <td>Montgomery St BART Station (Market St at 2nd St)</td>\n",
       "      <td>37.789625</td>\n",
       "      <td>-122.400811</td>\n",
       "      <td>48</td>\n",
       "      <td>2nd St at S Park St</td>\n",
       "      <td>37.782411</td>\n",
       "      <td>-122.392706</td>\n",
       "      <td>240</td>\n",
       "      <td>Subscriber</td>\n",
       "    </tr>\n",
       "    <tr>\n",
       "      <th>519698</th>\n",
       "      <td>366</td>\n",
       "      <td>2017-06-28 09:47:41.6640</td>\n",
       "      <td>2017-06-28 09:53:47.7150</td>\n",
       "      <td>58</td>\n",
       "      <td>Market St at 10th St</td>\n",
       "      <td>37.776619</td>\n",
       "      <td>-122.417385</td>\n",
       "      <td>59</td>\n",
       "      <td>S Van Ness Ave at Market St</td>\n",
       "      <td>37.774814</td>\n",
       "      <td>-122.418954</td>\n",
       "      <td>669</td>\n",
       "      <td>Subscriber</td>\n",
       "    </tr>\n",
       "    <tr>\n",
       "      <th>519699</th>\n",
       "      <td>188</td>\n",
       "      <td>2017-06-28 09:49:46.3770</td>\n",
       "      <td>2017-06-28 09:52:55.3380</td>\n",
       "      <td>25</td>\n",
       "      <td>Howard St at 2nd St</td>\n",
       "      <td>37.787522</td>\n",
       "      <td>-122.397405</td>\n",
       "      <td>48</td>\n",
       "      <td>2nd St at S Park St</td>\n",
       "      <td>37.782411</td>\n",
       "      <td>-122.392706</td>\n",
       "      <td>117</td>\n",
       "      <td>Subscriber</td>\n",
       "    </tr>\n",
       "  </tbody>\n",
       "</table>\n",
       "</div>"
      ],
      "text/plain": [
       "        duration_sec                start_time                  end_time  \\\n",
       "519694           730  2017-06-28 09:58:33.6690  2017-06-28 10:10:44.2130   \n",
       "519695           435  2017-06-28 10:00:54.5280  2017-06-28 10:08:10.4380   \n",
       "519696           431  2017-06-28 09:56:39.6310  2017-06-28 10:03:51.0900   \n",
       "519697           424  2017-06-28 09:47:36.3470  2017-06-28 09:54:41.1870   \n",
       "519698           366  2017-06-28 09:47:41.6640  2017-06-28 09:53:47.7150   \n",
       "519699           188  2017-06-28 09:49:46.3770  2017-06-28 09:52:55.3380   \n",
       "\n",
       "        start_station_id                                start_station_name  \\\n",
       "519694                23                     The Embarcadero at Steuart St   \n",
       "519695                81                                Berry St at 4th St   \n",
       "519696                66                             3rd St at Townsend St   \n",
       "519697                21  Montgomery St BART Station (Market St at 2nd St)   \n",
       "519698                58                              Market St at 10th St   \n",
       "519699                25                               Howard St at 2nd St   \n",
       "\n",
       "        start_station_latitude  start_station_longitude  end_station_id  \\\n",
       "519694               37.791464              -122.391034              44   \n",
       "519695               37.775880              -122.393170              45   \n",
       "519696               37.778742              -122.392741             321   \n",
       "519697               37.789625              -122.400811              48   \n",
       "519698               37.776619              -122.417385              59   \n",
       "519699               37.787522              -122.397405              48   \n",
       "\n",
       "                                         end_station_name  \\\n",
       "519694  Civic Center/UN Plaza BART Station (Market St ...   \n",
       "519695                                5th St at Howard St   \n",
       "519696                                      5th at Folsom   \n",
       "519697                                2nd St at S Park St   \n",
       "519698                        S Van Ness Ave at Market St   \n",
       "519699                                2nd St at S Park St   \n",
       "\n",
       "        end_station_latitude  end_station_longitude  bike_id   user_type  \n",
       "519694             37.781074            -122.411738      272  Subscriber  \n",
       "519695             37.781752            -122.405127      400  Subscriber  \n",
       "519696             37.780146            -122.403071      316  Subscriber  \n",
       "519697             37.782411            -122.392706      240  Subscriber  \n",
       "519698             37.774814            -122.418954      669  Subscriber  \n",
       "519699             37.782411            -122.392706      117  Subscriber  "
      ]
     },
     "execution_count": 5,
     "metadata": {},
     "output_type": "execute_result"
    }
   ],
   "source": [
    "# Show the dataset\n",
    "df.tail(6)"
   ]
  },
  {
   "cell_type": "code",
   "execution_count": 6,
   "metadata": {
    "slideshow": {
     "slide_type": "skip"
    }
   },
   "outputs": [
    {
     "data": {
      "text/html": [
       "<div>\n",
       "<style scoped>\n",
       "    .dataframe tbody tr th:only-of-type {\n",
       "        vertical-align: middle;\n",
       "    }\n",
       "\n",
       "    .dataframe tbody tr th {\n",
       "        vertical-align: top;\n",
       "    }\n",
       "\n",
       "    .dataframe thead th {\n",
       "        text-align: right;\n",
       "    }\n",
       "</style>\n",
       "<table border=\"1\" class=\"dataframe\">\n",
       "  <thead>\n",
       "    <tr style=\"text-align: right;\">\n",
       "      <th></th>\n",
       "      <th>duration_sec</th>\n",
       "      <th>start_time</th>\n",
       "      <th>end_time</th>\n",
       "      <th>start_station_id</th>\n",
       "      <th>start_station_name</th>\n",
       "      <th>start_station_latitude</th>\n",
       "      <th>start_station_longitude</th>\n",
       "      <th>end_station_id</th>\n",
       "      <th>end_station_name</th>\n",
       "      <th>end_station_latitude</th>\n",
       "      <th>end_station_longitude</th>\n",
       "      <th>bike_id</th>\n",
       "      <th>user_type</th>\n",
       "    </tr>\n",
       "  </thead>\n",
       "  <tbody>\n",
       "    <tr>\n",
       "      <th>6206</th>\n",
       "      <td>420</td>\n",
       "      <td>2017-12-28 09:56:55.1010</td>\n",
       "      <td>2017-12-28 10:03:56.0240</td>\n",
       "      <td>81</td>\n",
       "      <td>Berry St at 4th St</td>\n",
       "      <td>37.775880</td>\n",
       "      <td>-122.393170</td>\n",
       "      <td>36</td>\n",
       "      <td>Folsom St at 3rd St</td>\n",
       "      <td>37.783830</td>\n",
       "      <td>-122.398870</td>\n",
       "      <td>3594</td>\n",
       "      <td>Subscriber</td>\n",
       "    </tr>\n",
       "    <tr>\n",
       "      <th>125978</th>\n",
       "      <td>352</td>\n",
       "      <td>2017-11-17 08:58:55.4080</td>\n",
       "      <td>2017-11-17 09:04:47.4700</td>\n",
       "      <td>59</td>\n",
       "      <td>S Van Ness Ave at Market St</td>\n",
       "      <td>37.774814</td>\n",
       "      <td>-122.418954</td>\n",
       "      <td>88</td>\n",
       "      <td>11th St at Bryant St</td>\n",
       "      <td>37.770030</td>\n",
       "      <td>-122.411726</td>\n",
       "      <td>3128</td>\n",
       "      <td>Subscriber</td>\n",
       "    </tr>\n",
       "    <tr>\n",
       "      <th>437225</th>\n",
       "      <td>1116</td>\n",
       "      <td>2017-08-15 18:30:45.1590</td>\n",
       "      <td>2017-08-15 18:49:21.6950</td>\n",
       "      <td>50</td>\n",
       "      <td>2nd St at Townsend St - Coming Soon</td>\n",
       "      <td>37.780526</td>\n",
       "      <td>-122.390288</td>\n",
       "      <td>58</td>\n",
       "      <td>Market St at 10th St</td>\n",
       "      <td>37.776619</td>\n",
       "      <td>-122.417385</td>\n",
       "      <td>2395</td>\n",
       "      <td>Subscriber</td>\n",
       "    </tr>\n",
       "    <tr>\n",
       "      <th>378490</th>\n",
       "      <td>518</td>\n",
       "      <td>2017-09-05 16:34:57.4370</td>\n",
       "      <td>2017-09-05 16:43:36.0230</td>\n",
       "      <td>30</td>\n",
       "      <td>San Francisco Caltrain (Townsend St at 4th St)</td>\n",
       "      <td>37.776598</td>\n",
       "      <td>-122.395282</td>\n",
       "      <td>100</td>\n",
       "      <td>Bryant St at 15th St</td>\n",
       "      <td>37.767100</td>\n",
       "      <td>-122.410662</td>\n",
       "      <td>2937</td>\n",
       "      <td>Subscriber</td>\n",
       "    </tr>\n",
       "    <tr>\n",
       "      <th>410552</th>\n",
       "      <td>836</td>\n",
       "      <td>2017-08-25 07:34:15.3050</td>\n",
       "      <td>2017-08-25 07:48:11.3540</td>\n",
       "      <td>85</td>\n",
       "      <td>Church St at Duboce Ave</td>\n",
       "      <td>37.770083</td>\n",
       "      <td>-122.429156</td>\n",
       "      <td>21</td>\n",
       "      <td>Montgomery St BART Station (Market St at 2nd St)</td>\n",
       "      <td>37.789625</td>\n",
       "      <td>-122.400811</td>\n",
       "      <td>896</td>\n",
       "      <td>Subscriber</td>\n",
       "    </tr>\n",
       "    <tr>\n",
       "      <th>62121</th>\n",
       "      <td>790</td>\n",
       "      <td>2017-12-07 18:23:50.9040</td>\n",
       "      <td>2017-12-07 18:37:00.9480</td>\n",
       "      <td>89</td>\n",
       "      <td>Division St at Potrero Ave</td>\n",
       "      <td>37.769218</td>\n",
       "      <td>-122.407646</td>\n",
       "      <td>133</td>\n",
       "      <td>Valencia St at 22nd St</td>\n",
       "      <td>37.755213</td>\n",
       "      <td>-122.420975</td>\n",
       "      <td>2338</td>\n",
       "      <td>Subscriber</td>\n",
       "    </tr>\n",
       "  </tbody>\n",
       "</table>\n",
       "</div>"
      ],
      "text/plain": [
       "        duration_sec                start_time                  end_time  \\\n",
       "6206             420  2017-12-28 09:56:55.1010  2017-12-28 10:03:56.0240   \n",
       "125978           352  2017-11-17 08:58:55.4080  2017-11-17 09:04:47.4700   \n",
       "437225          1116  2017-08-15 18:30:45.1590  2017-08-15 18:49:21.6950   \n",
       "378490           518  2017-09-05 16:34:57.4370  2017-09-05 16:43:36.0230   \n",
       "410552           836  2017-08-25 07:34:15.3050  2017-08-25 07:48:11.3540   \n",
       "62121            790  2017-12-07 18:23:50.9040  2017-12-07 18:37:00.9480   \n",
       "\n",
       "        start_station_id                              start_station_name  \\\n",
       "6206                  81                              Berry St at 4th St   \n",
       "125978                59                     S Van Ness Ave at Market St   \n",
       "437225                50             2nd St at Townsend St - Coming Soon   \n",
       "378490                30  San Francisco Caltrain (Townsend St at 4th St)   \n",
       "410552                85                         Church St at Duboce Ave   \n",
       "62121                 89                      Division St at Potrero Ave   \n",
       "\n",
       "        start_station_latitude  start_station_longitude  end_station_id  \\\n",
       "6206                 37.775880              -122.393170              36   \n",
       "125978               37.774814              -122.418954              88   \n",
       "437225               37.780526              -122.390288              58   \n",
       "378490               37.776598              -122.395282             100   \n",
       "410552               37.770083              -122.429156              21   \n",
       "62121                37.769218              -122.407646             133   \n",
       "\n",
       "                                        end_station_name  \\\n",
       "6206                                 Folsom St at 3rd St   \n",
       "125978                              11th St at Bryant St   \n",
       "437225                              Market St at 10th St   \n",
       "378490                              Bryant St at 15th St   \n",
       "410552  Montgomery St BART Station (Market St at 2nd St)   \n",
       "62121                             Valencia St at 22nd St   \n",
       "\n",
       "        end_station_latitude  end_station_longitude  bike_id   user_type  \n",
       "6206               37.783830            -122.398870     3594  Subscriber  \n",
       "125978             37.770030            -122.411726     3128  Subscriber  \n",
       "437225             37.776619            -122.417385     2395  Subscriber  \n",
       "378490             37.767100            -122.410662     2937  Subscriber  \n",
       "410552             37.789625            -122.400811      896  Subscriber  \n",
       "62121              37.755213            -122.420975     2338  Subscriber  "
      ]
     },
     "execution_count": 6,
     "metadata": {},
     "output_type": "execute_result"
    }
   ],
   "source": [
    "# Show the dataset\n",
    "df.sample(6)"
   ]
  },
  {
   "cell_type": "code",
   "execution_count": 7,
   "metadata": {
    "slideshow": {
     "slide_type": "skip"
    }
   },
   "outputs": [
    {
     "name": "stdout",
     "output_type": "stream",
     "text": [
      "<class 'pandas.core.frame.DataFrame'>\n",
      "RangeIndex: 519700 entries, 0 to 519699\n",
      "Data columns (total 13 columns):\n",
      " #   Column                   Non-Null Count   Dtype  \n",
      "---  ------                   --------------   -----  \n",
      " 0   duration_sec             519700 non-null  int64  \n",
      " 1   start_time               519700 non-null  object \n",
      " 2   end_time                 519700 non-null  object \n",
      " 3   start_station_id         519700 non-null  int64  \n",
      " 4   start_station_name       519700 non-null  object \n",
      " 5   start_station_latitude   519700 non-null  float64\n",
      " 6   start_station_longitude  519700 non-null  float64\n",
      " 7   end_station_id           519700 non-null  int64  \n",
      " 8   end_station_name         519700 non-null  object \n",
      " 9   end_station_latitude     519700 non-null  float64\n",
      " 10  end_station_longitude    519700 non-null  float64\n",
      " 11  bike_id                  519700 non-null  int64  \n",
      " 12  user_type                519700 non-null  object \n",
      "dtypes: float64(4), int64(4), object(5)\n",
      "memory usage: 51.5+ MB\n"
     ]
    }
   ],
   "source": [
    "# Read dataset general information\n",
    "df.info()"
   ]
  },
  {
   "cell_type": "code",
   "execution_count": 8,
   "metadata": {
    "slideshow": {
     "slide_type": "skip"
    }
   },
   "outputs": [
    {
     "data": {
      "text/html": [
       "<div>\n",
       "<style scoped>\n",
       "    .dataframe tbody tr th:only-of-type {\n",
       "        vertical-align: middle;\n",
       "    }\n",
       "\n",
       "    .dataframe tbody tr th {\n",
       "        vertical-align: top;\n",
       "    }\n",
       "\n",
       "    .dataframe thead th {\n",
       "        text-align: right;\n",
       "    }\n",
       "</style>\n",
       "<table border=\"1\" class=\"dataframe\">\n",
       "  <thead>\n",
       "    <tr style=\"text-align: right;\">\n",
       "      <th></th>\n",
       "      <th>duration_sec</th>\n",
       "      <th>start_station_id</th>\n",
       "      <th>start_station_latitude</th>\n",
       "      <th>start_station_longitude</th>\n",
       "      <th>end_station_id</th>\n",
       "      <th>end_station_latitude</th>\n",
       "      <th>end_station_longitude</th>\n",
       "      <th>bike_id</th>\n",
       "    </tr>\n",
       "  </thead>\n",
       "  <tbody>\n",
       "    <tr>\n",
       "      <th>count</th>\n",
       "      <td>519700.000000</td>\n",
       "      <td>519700.000000</td>\n",
       "      <td>519700.000000</td>\n",
       "      <td>519700.000000</td>\n",
       "      <td>519700.000000</td>\n",
       "      <td>519700.000000</td>\n",
       "      <td>519700.000000</td>\n",
       "      <td>519700.000000</td>\n",
       "    </tr>\n",
       "    <tr>\n",
       "      <th>mean</th>\n",
       "      <td>1099.009521</td>\n",
       "      <td>95.034245</td>\n",
       "      <td>37.771653</td>\n",
       "      <td>-122.363927</td>\n",
       "      <td>92.184041</td>\n",
       "      <td>37.771844</td>\n",
       "      <td>-122.363236</td>\n",
       "      <td>1672.533079</td>\n",
       "    </tr>\n",
       "    <tr>\n",
       "      <th>std</th>\n",
       "      <td>3444.146451</td>\n",
       "      <td>86.083078</td>\n",
       "      <td>0.086305</td>\n",
       "      <td>0.105573</td>\n",
       "      <td>84.969491</td>\n",
       "      <td>0.086224</td>\n",
       "      <td>0.105122</td>\n",
       "      <td>971.356959</td>\n",
       "    </tr>\n",
       "    <tr>\n",
       "      <th>min</th>\n",
       "      <td>61.000000</td>\n",
       "      <td>3.000000</td>\n",
       "      <td>37.317298</td>\n",
       "      <td>-122.444293</td>\n",
       "      <td>3.000000</td>\n",
       "      <td>37.317298</td>\n",
       "      <td>-122.444293</td>\n",
       "      <td>10.000000</td>\n",
       "    </tr>\n",
       "    <tr>\n",
       "      <th>25%</th>\n",
       "      <td>382.000000</td>\n",
       "      <td>24.000000</td>\n",
       "      <td>37.773492</td>\n",
       "      <td>-122.411726</td>\n",
       "      <td>23.000000</td>\n",
       "      <td>37.774520</td>\n",
       "      <td>-122.410345</td>\n",
       "      <td>787.000000</td>\n",
       "    </tr>\n",
       "    <tr>\n",
       "      <th>50%</th>\n",
       "      <td>596.000000</td>\n",
       "      <td>67.000000</td>\n",
       "      <td>37.783521</td>\n",
       "      <td>-122.398870</td>\n",
       "      <td>66.000000</td>\n",
       "      <td>37.783830</td>\n",
       "      <td>-122.398525</td>\n",
       "      <td>1728.500000</td>\n",
       "    </tr>\n",
       "    <tr>\n",
       "      <th>75%</th>\n",
       "      <td>938.000000</td>\n",
       "      <td>139.000000</td>\n",
       "      <td>37.795392</td>\n",
       "      <td>-122.391034</td>\n",
       "      <td>134.000000</td>\n",
       "      <td>37.795392</td>\n",
       "      <td>-122.391034</td>\n",
       "      <td>2520.000000</td>\n",
       "    </tr>\n",
       "    <tr>\n",
       "      <th>max</th>\n",
       "      <td>86369.000000</td>\n",
       "      <td>340.000000</td>\n",
       "      <td>37.880222</td>\n",
       "      <td>-121.874119</td>\n",
       "      <td>340.000000</td>\n",
       "      <td>37.880222</td>\n",
       "      <td>-121.874119</td>\n",
       "      <td>3733.000000</td>\n",
       "    </tr>\n",
       "  </tbody>\n",
       "</table>\n",
       "</div>"
      ],
      "text/plain": [
       "        duration_sec  start_station_id  start_station_latitude  \\\n",
       "count  519700.000000     519700.000000           519700.000000   \n",
       "mean     1099.009521         95.034245               37.771653   \n",
       "std      3444.146451         86.083078                0.086305   \n",
       "min        61.000000          3.000000               37.317298   \n",
       "25%       382.000000         24.000000               37.773492   \n",
       "50%       596.000000         67.000000               37.783521   \n",
       "75%       938.000000        139.000000               37.795392   \n",
       "max     86369.000000        340.000000               37.880222   \n",
       "\n",
       "       start_station_longitude  end_station_id  end_station_latitude  \\\n",
       "count            519700.000000   519700.000000         519700.000000   \n",
       "mean               -122.363927       92.184041             37.771844   \n",
       "std                   0.105573       84.969491              0.086224   \n",
       "min                -122.444293        3.000000             37.317298   \n",
       "25%                -122.411726       23.000000             37.774520   \n",
       "50%                -122.398870       66.000000             37.783830   \n",
       "75%                -122.391034      134.000000             37.795392   \n",
       "max                -121.874119      340.000000             37.880222   \n",
       "\n",
       "       end_station_longitude        bike_id  \n",
       "count          519700.000000  519700.000000  \n",
       "mean             -122.363236    1672.533079  \n",
       "std                 0.105122     971.356959  \n",
       "min              -122.444293      10.000000  \n",
       "25%              -122.410345     787.000000  \n",
       "50%              -122.398525    1728.500000  \n",
       "75%              -122.391034    2520.000000  \n",
       "max              -121.874119    3733.000000  "
      ]
     },
     "execution_count": 8,
     "metadata": {},
     "output_type": "execute_result"
    }
   ],
   "source": [
    "# Read descriptive data statistics\n",
    "df.describe()"
   ]
  },
  {
   "cell_type": "code",
   "execution_count": 9,
   "metadata": {
    "slideshow": {
     "slide_type": "skip"
    }
   },
   "outputs": [
    {
     "data": {
      "text/plain": [
       "0"
      ]
     },
     "execution_count": 9,
     "metadata": {},
     "output_type": "execute_result"
    }
   ],
   "source": [
    "# Check the duplicated\n",
    "df.duplicated().sum()"
   ]
  },
  {
   "cell_type": "code",
   "execution_count": 10,
   "metadata": {
    "slideshow": {
     "slide_type": "skip"
    }
   },
   "outputs": [
    {
     "data": {
      "text/plain": [
       "duration_sec               0\n",
       "start_time                 0\n",
       "end_time                   0\n",
       "start_station_id           0\n",
       "start_station_name         0\n",
       "start_station_latitude     0\n",
       "start_station_longitude    0\n",
       "end_station_id             0\n",
       "end_station_name           0\n",
       "end_station_latitude       0\n",
       "end_station_longitude      0\n",
       "bike_id                    0\n",
       "user_type                  0\n",
       "dtype: int64"
      ]
     },
     "execution_count": 10,
     "metadata": {},
     "output_type": "execute_result"
    }
   ],
   "source": [
    "# Check the null values\n",
    "df.isnull().sum()"
   ]
  },
  {
   "cell_type": "code",
   "execution_count": 11,
   "metadata": {
    "slideshow": {
     "slide_type": "skip"
    }
   },
   "outputs": [
    {
     "data": {
      "text/plain": [
       "Subscriber    409230\n",
       "Customer      110470\n",
       "Name: user_type, dtype: int64"
      ]
     },
     "execution_count": 11,
     "metadata": {},
     "output_type": "execute_result"
    }
   ],
   "source": [
    "# Count each user type\n",
    "df['user_type'].value_counts()"
   ]
  },
  {
   "cell_type": "code",
   "execution_count": 12,
   "metadata": {
    "slideshow": {
     "slide_type": "skip"
    }
   },
   "outputs": [],
   "source": [
    "# Make a copy of the tables before cleaning\n",
    "df_clean = df.copy()"
   ]
  },
  {
   "cell_type": "code",
   "execution_count": 13,
   "metadata": {
    "slideshow": {
     "slide_type": "skip"
    }
   },
   "outputs": [],
   "source": [
    "# Change data type\n",
    "df_clean['start_time'] = pd.to_datetime(df_clean['start_time'])\n",
    "df_clean['end_time'] = pd.to_datetime(df_clean['end_time'])\n",
    "df_clean['start_station_id'] = df_clean['start_station_id'].astype('str')\n",
    "df_clean['bike_id'] = df_clean['bike_id'].astype('str')\n",
    "df_clean['end_station_id'] = df_clean['end_station_id'].astype('str')\n",
    "\n",
    "\n",
    "\n"
   ]
  },
  {
   "cell_type": "code",
   "execution_count": 14,
   "metadata": {
    "slideshow": {
     "slide_type": "skip"
    }
   },
   "outputs": [],
   "source": [
    "# Calculate the duration manually\n",
    "df_clean['diff'] = df_clean['end_time'] - df_clean['start_time']"
   ]
  },
  {
   "cell_type": "code",
   "execution_count": 15,
   "metadata": {
    "slideshow": {
     "slide_type": "skip"
    }
   },
   "outputs": [],
   "source": [
    "# Convert to seconds\n",
    "df_clean['diff'] = df_clean['diff'].dt.total_seconds()"
   ]
  },
  {
   "cell_type": "code",
   "execution_count": 16,
   "metadata": {
    "slideshow": {
     "slide_type": "skip"
    }
   },
   "outputs": [],
   "source": [
    "# Change data type\n",
    "df_clean['diff'] = df_clean['diff'].astype('int64')"
   ]
  },
  {
   "cell_type": "code",
   "execution_count": 17,
   "metadata": {
    "slideshow": {
     "slide_type": "skip"
    }
   },
   "outputs": [
    {
     "data": {
      "text/html": [
       "<div>\n",
       "<style scoped>\n",
       "    .dataframe tbody tr th:only-of-type {\n",
       "        vertical-align: middle;\n",
       "    }\n",
       "\n",
       "    .dataframe tbody tr th {\n",
       "        vertical-align: top;\n",
       "    }\n",
       "\n",
       "    .dataframe thead th {\n",
       "        text-align: right;\n",
       "    }\n",
       "</style>\n",
       "<table border=\"1\" class=\"dataframe\">\n",
       "  <thead>\n",
       "    <tr style=\"text-align: right;\">\n",
       "      <th></th>\n",
       "      <th>duration_sec</th>\n",
       "      <th>start_time</th>\n",
       "      <th>end_time</th>\n",
       "      <th>start_station_id</th>\n",
       "      <th>start_station_name</th>\n",
       "      <th>start_station_latitude</th>\n",
       "      <th>start_station_longitude</th>\n",
       "      <th>end_station_id</th>\n",
       "      <th>end_station_name</th>\n",
       "      <th>end_station_latitude</th>\n",
       "      <th>end_station_longitude</th>\n",
       "      <th>bike_id</th>\n",
       "      <th>user_type</th>\n",
       "      <th>diff</th>\n",
       "    </tr>\n",
       "  </thead>\n",
       "  <tbody>\n",
       "    <tr>\n",
       "      <th>0</th>\n",
       "      <td>80110</td>\n",
       "      <td>2017-12-31 16:57:39.654</td>\n",
       "      <td>2018-01-01 15:12:50.245</td>\n",
       "      <td>74</td>\n",
       "      <td>Laguna St at Hayes St</td>\n",
       "      <td>37.776435</td>\n",
       "      <td>-122.426244</td>\n",
       "      <td>43</td>\n",
       "      <td>San Francisco Public Library (Grove St at Hyde...</td>\n",
       "      <td>37.778768</td>\n",
       "      <td>-122.415929</td>\n",
       "      <td>96</td>\n",
       "      <td>Customer</td>\n",
       "      <td>80110</td>\n",
       "    </tr>\n",
       "    <tr>\n",
       "      <th>1</th>\n",
       "      <td>78800</td>\n",
       "      <td>2017-12-31 15:56:34.842</td>\n",
       "      <td>2018-01-01 13:49:55.617</td>\n",
       "      <td>284</td>\n",
       "      <td>Yerba Buena Center for the Arts (Howard St at ...</td>\n",
       "      <td>37.784872</td>\n",
       "      <td>-122.400876</td>\n",
       "      <td>96</td>\n",
       "      <td>Dolores St at 15th St</td>\n",
       "      <td>37.766210</td>\n",
       "      <td>-122.426614</td>\n",
       "      <td>88</td>\n",
       "      <td>Customer</td>\n",
       "      <td>78800</td>\n",
       "    </tr>\n",
       "    <tr>\n",
       "      <th>2</th>\n",
       "      <td>45768</td>\n",
       "      <td>2017-12-31 22:45:48.411</td>\n",
       "      <td>2018-01-01 11:28:36.883</td>\n",
       "      <td>245</td>\n",
       "      <td>Downtown Berkeley BART</td>\n",
       "      <td>37.870348</td>\n",
       "      <td>-122.267764</td>\n",
       "      <td>245</td>\n",
       "      <td>Downtown Berkeley BART</td>\n",
       "      <td>37.870348</td>\n",
       "      <td>-122.267764</td>\n",
       "      <td>1094</td>\n",
       "      <td>Customer</td>\n",
       "      <td>45768</td>\n",
       "    </tr>\n",
       "    <tr>\n",
       "      <th>3</th>\n",
       "      <td>62172</td>\n",
       "      <td>2017-12-31 17:31:10.636</td>\n",
       "      <td>2018-01-01 10:47:23.531</td>\n",
       "      <td>60</td>\n",
       "      <td>8th St at Ringold St</td>\n",
       "      <td>37.774520</td>\n",
       "      <td>-122.409449</td>\n",
       "      <td>5</td>\n",
       "      <td>Powell St BART Station (Market St at 5th St)</td>\n",
       "      <td>37.783899</td>\n",
       "      <td>-122.408445</td>\n",
       "      <td>2831</td>\n",
       "      <td>Customer</td>\n",
       "      <td>62172</td>\n",
       "    </tr>\n",
       "    <tr>\n",
       "      <th>4</th>\n",
       "      <td>43603</td>\n",
       "      <td>2017-12-31 14:23:14.001</td>\n",
       "      <td>2018-01-01 02:29:57.571</td>\n",
       "      <td>239</td>\n",
       "      <td>Bancroft Way at Telegraph Ave</td>\n",
       "      <td>37.868813</td>\n",
       "      <td>-122.258764</td>\n",
       "      <td>247</td>\n",
       "      <td>Fulton St at Bancroft Way</td>\n",
       "      <td>37.867789</td>\n",
       "      <td>-122.265896</td>\n",
       "      <td>3167</td>\n",
       "      <td>Subscriber</td>\n",
       "      <td>43603</td>\n",
       "    </tr>\n",
       "    <tr>\n",
       "      <th>5</th>\n",
       "      <td>9226</td>\n",
       "      <td>2017-12-31 22:51:00.918</td>\n",
       "      <td>2018-01-01 01:24:47.166</td>\n",
       "      <td>30</td>\n",
       "      <td>San Francisco Caltrain (Townsend St at 4th St)</td>\n",
       "      <td>37.776598</td>\n",
       "      <td>-122.395282</td>\n",
       "      <td>30</td>\n",
       "      <td>San Francisco Caltrain (Townsend St at 4th St)</td>\n",
       "      <td>37.776598</td>\n",
       "      <td>-122.395282</td>\n",
       "      <td>1487</td>\n",
       "      <td>Customer</td>\n",
       "      <td>9226</td>\n",
       "    </tr>\n",
       "    <tr>\n",
       "      <th>6</th>\n",
       "      <td>4507</td>\n",
       "      <td>2017-12-31 23:49:28.422</td>\n",
       "      <td>2018-01-01 01:04:35.619</td>\n",
       "      <td>259</td>\n",
       "      <td>Addison St at Fourth St</td>\n",
       "      <td>37.866249</td>\n",
       "      <td>-122.299371</td>\n",
       "      <td>259</td>\n",
       "      <td>Addison St at Fourth St</td>\n",
       "      <td>37.866249</td>\n",
       "      <td>-122.299371</td>\n",
       "      <td>3539</td>\n",
       "      <td>Customer</td>\n",
       "      <td>4507</td>\n",
       "    </tr>\n",
       "    <tr>\n",
       "      <th>7</th>\n",
       "      <td>4334</td>\n",
       "      <td>2017-12-31 23:46:37.196</td>\n",
       "      <td>2018-01-01 00:58:51.211</td>\n",
       "      <td>284</td>\n",
       "      <td>Yerba Buena Center for the Arts (Howard St at ...</td>\n",
       "      <td>37.784872</td>\n",
       "      <td>-122.400876</td>\n",
       "      <td>284</td>\n",
       "      <td>Yerba Buena Center for the Arts (Howard St at ...</td>\n",
       "      <td>37.784872</td>\n",
       "      <td>-122.400876</td>\n",
       "      <td>1503</td>\n",
       "      <td>Customer</td>\n",
       "      <td>4334</td>\n",
       "    </tr>\n",
       "    <tr>\n",
       "      <th>8</th>\n",
       "      <td>4150</td>\n",
       "      <td>2017-12-31 23:37:07.548</td>\n",
       "      <td>2018-01-01 00:46:18.308</td>\n",
       "      <td>20</td>\n",
       "      <td>Mechanics Monument Plaza (Market St at Bush St)</td>\n",
       "      <td>37.791300</td>\n",
       "      <td>-122.399051</td>\n",
       "      <td>20</td>\n",
       "      <td>Mechanics Monument Plaza (Market St at Bush St)</td>\n",
       "      <td>37.791300</td>\n",
       "      <td>-122.399051</td>\n",
       "      <td>3125</td>\n",
       "      <td>Customer</td>\n",
       "      <td>4150</td>\n",
       "    </tr>\n",
       "    <tr>\n",
       "      <th>9</th>\n",
       "      <td>4238</td>\n",
       "      <td>2017-12-31 23:35:38.145</td>\n",
       "      <td>2018-01-01 00:46:17.053</td>\n",
       "      <td>20</td>\n",
       "      <td>Mechanics Monument Plaza (Market St at Bush St)</td>\n",
       "      <td>37.791300</td>\n",
       "      <td>-122.399051</td>\n",
       "      <td>20</td>\n",
       "      <td>Mechanics Monument Plaza (Market St at Bush St)</td>\n",
       "      <td>37.791300</td>\n",
       "      <td>-122.399051</td>\n",
       "      <td>2543</td>\n",
       "      <td>Customer</td>\n",
       "      <td>4238</td>\n",
       "    </tr>\n",
       "    <tr>\n",
       "      <th>10</th>\n",
       "      <td>3292</td>\n",
       "      <td>2017-12-31 23:46:32.403</td>\n",
       "      <td>2018-01-01 00:41:24.605</td>\n",
       "      <td>284</td>\n",
       "      <td>Yerba Buena Center for the Arts (Howard St at ...</td>\n",
       "      <td>37.784872</td>\n",
       "      <td>-122.400876</td>\n",
       "      <td>22</td>\n",
       "      <td>Howard St at Beale St</td>\n",
       "      <td>37.789756</td>\n",
       "      <td>-122.394643</td>\n",
       "      <td>3058</td>\n",
       "      <td>Customer</td>\n",
       "      <td>3292</td>\n",
       "    </tr>\n",
       "    <tr>\n",
       "      <th>11</th>\n",
       "      <td>3177</td>\n",
       "      <td>2017-12-31 23:48:11.757</td>\n",
       "      <td>2018-01-01 00:41:09.581</td>\n",
       "      <td>284</td>\n",
       "      <td>Yerba Buena Center for the Arts (Howard St at ...</td>\n",
       "      <td>37.784872</td>\n",
       "      <td>-122.400876</td>\n",
       "      <td>22</td>\n",
       "      <td>Howard St at Beale St</td>\n",
       "      <td>37.789756</td>\n",
       "      <td>-122.394643</td>\n",
       "      <td>3197</td>\n",
       "      <td>Customer</td>\n",
       "      <td>3177</td>\n",
       "    </tr>\n",
       "    <tr>\n",
       "      <th>12</th>\n",
       "      <td>2183</td>\n",
       "      <td>2017-12-31 23:52:55.581</td>\n",
       "      <td>2018-01-01 00:29:18.743</td>\n",
       "      <td>67</td>\n",
       "      <td>San Francisco Caltrain Station 2  (Townsend St...</td>\n",
       "      <td>37.776639</td>\n",
       "      <td>-122.395526</td>\n",
       "      <td>24</td>\n",
       "      <td>Spear St at Folsom St</td>\n",
       "      <td>37.789677</td>\n",
       "      <td>-122.390428</td>\n",
       "      <td>2311</td>\n",
       "      <td>Subscriber</td>\n",
       "      <td>2183</td>\n",
       "    </tr>\n",
       "    <tr>\n",
       "      <th>13</th>\n",
       "      <td>2170</td>\n",
       "      <td>2017-12-31 23:52:55.937</td>\n",
       "      <td>2018-01-01 00:29:06.924</td>\n",
       "      <td>67</td>\n",
       "      <td>San Francisco Caltrain Station 2  (Townsend St...</td>\n",
       "      <td>37.776639</td>\n",
       "      <td>-122.395526</td>\n",
       "      <td>24</td>\n",
       "      <td>Spear St at Folsom St</td>\n",
       "      <td>37.789677</td>\n",
       "      <td>-122.390428</td>\n",
       "      <td>3717</td>\n",
       "      <td>Subscriber</td>\n",
       "      <td>2170</td>\n",
       "    </tr>\n",
       "    <tr>\n",
       "      <th>14</th>\n",
       "      <td>2697</td>\n",
       "      <td>2017-12-31 23:35:23.222</td>\n",
       "      <td>2018-01-01 00:20:20.813</td>\n",
       "      <td>66</td>\n",
       "      <td>3rd St at Townsend St</td>\n",
       "      <td>37.778742</td>\n",
       "      <td>-122.392741</td>\n",
       "      <td>23</td>\n",
       "      <td>The Embarcadero at Steuart St</td>\n",
       "      <td>37.791464</td>\n",
       "      <td>-122.391034</td>\n",
       "      <td>3452</td>\n",
       "      <td>Customer</td>\n",
       "      <td>2697</td>\n",
       "    </tr>\n",
       "    <tr>\n",
       "      <th>15</th>\n",
       "      <td>1544</td>\n",
       "      <td>2017-12-31 23:53:38.943</td>\n",
       "      <td>2018-01-01 00:19:23.047</td>\n",
       "      <td>14</td>\n",
       "      <td>Clay St at Battery St</td>\n",
       "      <td>37.795001</td>\n",
       "      <td>-122.399970</td>\n",
       "      <td>27</td>\n",
       "      <td>Beale St at Harrison St</td>\n",
       "      <td>37.788059</td>\n",
       "      <td>-122.391865</td>\n",
       "      <td>558</td>\n",
       "      <td>Subscriber</td>\n",
       "      <td>1544</td>\n",
       "    </tr>\n",
       "    <tr>\n",
       "      <th>16</th>\n",
       "      <td>1474</td>\n",
       "      <td>2017-12-31 23:54:40.146</td>\n",
       "      <td>2018-01-01 00:19:14.351</td>\n",
       "      <td>14</td>\n",
       "      <td>Clay St at Battery St</td>\n",
       "      <td>37.795001</td>\n",
       "      <td>-122.399970</td>\n",
       "      <td>27</td>\n",
       "      <td>Beale St at Harrison St</td>\n",
       "      <td>37.788059</td>\n",
       "      <td>-122.391865</td>\n",
       "      <td>3646</td>\n",
       "      <td>Subscriber</td>\n",
       "      <td>1474</td>\n",
       "    </tr>\n",
       "    <tr>\n",
       "      <th>17</th>\n",
       "      <td>1397</td>\n",
       "      <td>2017-12-31 23:55:09.686</td>\n",
       "      <td>2018-01-01 00:18:26.721</td>\n",
       "      <td>78</td>\n",
       "      <td>Folsom St at 9th St</td>\n",
       "      <td>37.773717</td>\n",
       "      <td>-122.411647</td>\n",
       "      <td>15</td>\n",
       "      <td>San Francisco Ferry Building (Harry Bridges Pl...</td>\n",
       "      <td>37.795392</td>\n",
       "      <td>-122.394203</td>\n",
       "      <td>1667</td>\n",
       "      <td>Customer</td>\n",
       "      <td>1397</td>\n",
       "    </tr>\n",
       "    <tr>\n",
       "      <th>18</th>\n",
       "      <td>1532</td>\n",
       "      <td>2017-12-31 23:52:49.497</td>\n",
       "      <td>2018-01-01 00:18:21.953</td>\n",
       "      <td>78</td>\n",
       "      <td>Folsom St at 9th St</td>\n",
       "      <td>37.773717</td>\n",
       "      <td>-122.411647</td>\n",
       "      <td>15</td>\n",
       "      <td>San Francisco Ferry Building (Harry Bridges Pl...</td>\n",
       "      <td>37.795392</td>\n",
       "      <td>-122.394203</td>\n",
       "      <td>3114</td>\n",
       "      <td>Subscriber</td>\n",
       "      <td>1532</td>\n",
       "    </tr>\n",
       "    <tr>\n",
       "      <th>19</th>\n",
       "      <td>1216</td>\n",
       "      <td>2017-12-31 23:46:33.993</td>\n",
       "      <td>2018-01-01 00:06:50.058</td>\n",
       "      <td>4</td>\n",
       "      <td>Cyril Magnin St at Ellis St</td>\n",
       "      <td>37.785881</td>\n",
       "      <td>-122.408915</td>\n",
       "      <td>123</td>\n",
       "      <td>Folsom St at 19th St</td>\n",
       "      <td>37.760594</td>\n",
       "      <td>-122.414817</td>\n",
       "      <td>1473</td>\n",
       "      <td>Subscriber</td>\n",
       "      <td>1216</td>\n",
       "    </tr>\n",
       "    <tr>\n",
       "      <th>20</th>\n",
       "      <td>386</td>\n",
       "      <td>2017-12-31 23:59:01.261</td>\n",
       "      <td>2018-01-01 00:05:27.809</td>\n",
       "      <td>317</td>\n",
       "      <td>San Salvador St at 9th St</td>\n",
       "      <td>37.333955</td>\n",
       "      <td>-121.877349</td>\n",
       "      <td>296</td>\n",
       "      <td>5th St at Virginia St</td>\n",
       "      <td>37.325998</td>\n",
       "      <td>-121.877120</td>\n",
       "      <td>1603</td>\n",
       "      <td>Subscriber</td>\n",
       "      <td>386</td>\n",
       "    </tr>\n",
       "    <tr>\n",
       "      <th>21</th>\n",
       "      <td>4174</td>\n",
       "      <td>2017-12-31 22:52:22.286</td>\n",
       "      <td>2018-01-01 00:01:56.614</td>\n",
       "      <td>30</td>\n",
       "      <td>San Francisco Caltrain (Townsend St at 4th St)</td>\n",
       "      <td>37.776598</td>\n",
       "      <td>-122.395282</td>\n",
       "      <td>6</td>\n",
       "      <td>The Embarcadero at Sansome St</td>\n",
       "      <td>37.804770</td>\n",
       "      <td>-122.403234</td>\n",
       "      <td>809</td>\n",
       "      <td>Customer</td>\n",
       "      <td>4174</td>\n",
       "    </tr>\n",
       "    <tr>\n",
       "      <th>22</th>\n",
       "      <td>422</td>\n",
       "      <td>2017-12-31 23:54:25.337</td>\n",
       "      <td>2018-01-01 00:01:27.354</td>\n",
       "      <td>139</td>\n",
       "      <td>Garfield Square (25th St at Harrison St)</td>\n",
       "      <td>37.751017</td>\n",
       "      <td>-122.411901</td>\n",
       "      <td>99</td>\n",
       "      <td>Folsom St at 15th St</td>\n",
       "      <td>37.767037</td>\n",
       "      <td>-122.415443</td>\n",
       "      <td>2415</td>\n",
       "      <td>Subscriber</td>\n",
       "      <td>422</td>\n",
       "    </tr>\n",
       "    <tr>\n",
       "      <th>23</th>\n",
       "      <td>1165</td>\n",
       "      <td>2017-12-31 23:35:55.543</td>\n",
       "      <td>2017-12-31 23:55:21.220</td>\n",
       "      <td>66</td>\n",
       "      <td>3rd St at Townsend St</td>\n",
       "      <td>37.778742</td>\n",
       "      <td>-122.392741</td>\n",
       "      <td>23</td>\n",
       "      <td>The Embarcadero at Steuart St</td>\n",
       "      <td>37.791464</td>\n",
       "      <td>-122.391034</td>\n",
       "      <td>3671</td>\n",
       "      <td>Customer</td>\n",
       "      <td>1165</td>\n",
       "    </tr>\n",
       "    <tr>\n",
       "      <th>24</th>\n",
       "      <td>1149</td>\n",
       "      <td>2017-12-31 23:36:03.555</td>\n",
       "      <td>2017-12-31 23:55:13.465</td>\n",
       "      <td>66</td>\n",
       "      <td>3rd St at Townsend St</td>\n",
       "      <td>37.778742</td>\n",
       "      <td>-122.392741</td>\n",
       "      <td>23</td>\n",
       "      <td>The Embarcadero at Steuart St</td>\n",
       "      <td>37.791464</td>\n",
       "      <td>-122.391034</td>\n",
       "      <td>3375</td>\n",
       "      <td>Customer</td>\n",
       "      <td>1149</td>\n",
       "    </tr>\n",
       "    <tr>\n",
       "      <th>25</th>\n",
       "      <td>1130</td>\n",
       "      <td>2017-12-31 23:36:16.069</td>\n",
       "      <td>2017-12-31 23:55:06.096</td>\n",
       "      <td>66</td>\n",
       "      <td>3rd St at Townsend St</td>\n",
       "      <td>37.778742</td>\n",
       "      <td>-122.392741</td>\n",
       "      <td>23</td>\n",
       "      <td>The Embarcadero at Steuart St</td>\n",
       "      <td>37.791464</td>\n",
       "      <td>-122.391034</td>\n",
       "      <td>2721</td>\n",
       "      <td>Customer</td>\n",
       "      <td>1130</td>\n",
       "    </tr>\n",
       "    <tr>\n",
       "      <th>26</th>\n",
       "      <td>1003</td>\n",
       "      <td>2017-12-31 23:36:34.548</td>\n",
       "      <td>2017-12-31 23:53:18.195</td>\n",
       "      <td>66</td>\n",
       "      <td>3rd St at Townsend St</td>\n",
       "      <td>37.778742</td>\n",
       "      <td>-122.392741</td>\n",
       "      <td>23</td>\n",
       "      <td>The Embarcadero at Steuart St</td>\n",
       "      <td>37.791464</td>\n",
       "      <td>-122.391034</td>\n",
       "      <td>2522</td>\n",
       "      <td>Customer</td>\n",
       "      <td>1003</td>\n",
       "    </tr>\n",
       "    <tr>\n",
       "      <th>27</th>\n",
       "      <td>862</td>\n",
       "      <td>2017-12-31 23:38:24.874</td>\n",
       "      <td>2017-12-31 23:52:47.542</td>\n",
       "      <td>6</td>\n",
       "      <td>The Embarcadero at Sansome St</td>\n",
       "      <td>37.804770</td>\n",
       "      <td>-122.403234</td>\n",
       "      <td>15</td>\n",
       "      <td>San Francisco Ferry Building (Harry Bridges Pl...</td>\n",
       "      <td>37.795392</td>\n",
       "      <td>-122.394203</td>\n",
       "      <td>533</td>\n",
       "      <td>Customer</td>\n",
       "      <td>862</td>\n",
       "    </tr>\n",
       "    <tr>\n",
       "      <th>28</th>\n",
       "      <td>871</td>\n",
       "      <td>2017-12-31 23:37:47.192</td>\n",
       "      <td>2017-12-31 23:52:18.473</td>\n",
       "      <td>323</td>\n",
       "      <td>Broadway at Kearny</td>\n",
       "      <td>37.798014</td>\n",
       "      <td>-122.405950</td>\n",
       "      <td>14</td>\n",
       "      <td>Clay St at Battery St</td>\n",
       "      <td>37.795001</td>\n",
       "      <td>-122.399970</td>\n",
       "      <td>1456</td>\n",
       "      <td>Subscriber</td>\n",
       "      <td>871</td>\n",
       "    </tr>\n",
       "    <tr>\n",
       "      <th>29</th>\n",
       "      <td>784</td>\n",
       "      <td>2017-12-31 23:39:13.084</td>\n",
       "      <td>2017-12-31 23:52:17.293</td>\n",
       "      <td>6</td>\n",
       "      <td>The Embarcadero at Sansome St</td>\n",
       "      <td>37.804770</td>\n",
       "      <td>-122.403234</td>\n",
       "      <td>15</td>\n",
       "      <td>San Francisco Ferry Building (Harry Bridges Pl...</td>\n",
       "      <td>37.795392</td>\n",
       "      <td>-122.394203</td>\n",
       "      <td>1691</td>\n",
       "      <td>Customer</td>\n",
       "      <td>784</td>\n",
       "    </tr>\n",
       "    <tr>\n",
       "      <th>30</th>\n",
       "      <td>767</td>\n",
       "      <td>2017-12-31 23:39:29.839</td>\n",
       "      <td>2017-12-31 23:52:17.122</td>\n",
       "      <td>6</td>\n",
       "      <td>The Embarcadero at Sansome St</td>\n",
       "      <td>37.804770</td>\n",
       "      <td>-122.403234</td>\n",
       "      <td>15</td>\n",
       "      <td>San Francisco Ferry Building (Harry Bridges Pl...</td>\n",
       "      <td>37.795392</td>\n",
       "      <td>-122.394203</td>\n",
       "      <td>1568</td>\n",
       "      <td>Customer</td>\n",
       "      <td>767</td>\n",
       "    </tr>\n",
       "    <tr>\n",
       "      <th>31</th>\n",
       "      <td>5193</td>\n",
       "      <td>2017-12-31 22:25:08.572</td>\n",
       "      <td>2017-12-31 23:51:42.380</td>\n",
       "      <td>49</td>\n",
       "      <td>S Park St at 3rd St</td>\n",
       "      <td>37.780760</td>\n",
       "      <td>-122.394989</td>\n",
       "      <td>11</td>\n",
       "      <td>Davis St at Jackson St</td>\n",
       "      <td>37.797280</td>\n",
       "      <td>-122.398436</td>\n",
       "      <td>2823</td>\n",
       "      <td>Customer</td>\n",
       "      <td>5193</td>\n",
       "    </tr>\n",
       "    <tr>\n",
       "      <th>32</th>\n",
       "      <td>733</td>\n",
       "      <td>2017-12-31 23:38:38.861</td>\n",
       "      <td>2017-12-31 23:50:52.504</td>\n",
       "      <td>323</td>\n",
       "      <td>Broadway at Kearny</td>\n",
       "      <td>37.798014</td>\n",
       "      <td>-122.405950</td>\n",
       "      <td>14</td>\n",
       "      <td>Clay St at Battery St</td>\n",
       "      <td>37.795001</td>\n",
       "      <td>-122.399970</td>\n",
       "      <td>1634</td>\n",
       "      <td>Subscriber</td>\n",
       "      <td>733</td>\n",
       "    </tr>\n",
       "    <tr>\n",
       "      <th>33</th>\n",
       "      <td>781</td>\n",
       "      <td>2017-12-31 23:33:52.981</td>\n",
       "      <td>2017-12-31 23:46:54.972</td>\n",
       "      <td>251</td>\n",
       "      <td>California St at University Ave</td>\n",
       "      <td>37.870555</td>\n",
       "      <td>-122.279720</td>\n",
       "      <td>259</td>\n",
       "      <td>Addison St at Fourth St</td>\n",
       "      <td>37.866249</td>\n",
       "      <td>-122.299371</td>\n",
       "      <td>3539</td>\n",
       "      <td>Customer</td>\n",
       "      <td>781</td>\n",
       "    </tr>\n",
       "    <tr>\n",
       "      <th>34</th>\n",
       "      <td>475</td>\n",
       "      <td>2017-12-31 23:37:35.545</td>\n",
       "      <td>2017-12-31 23:45:30.808</td>\n",
       "      <td>7</td>\n",
       "      <td>Frank H Ogawa Plaza</td>\n",
       "      <td>37.804562</td>\n",
       "      <td>-122.271738</td>\n",
       "      <td>230</td>\n",
       "      <td>14th St at Mandela Pkwy</td>\n",
       "      <td>37.810743</td>\n",
       "      <td>-122.291415</td>\n",
       "      <td>3598</td>\n",
       "      <td>Subscriber</td>\n",
       "      <td>475</td>\n",
       "    </tr>\n",
       "    <tr>\n",
       "      <th>35</th>\n",
       "      <td>152</td>\n",
       "      <td>2017-12-31 23:41:32.917</td>\n",
       "      <td>2017-12-31 23:44:05.047</td>\n",
       "      <td>96</td>\n",
       "      <td>Dolores St at 15th St</td>\n",
       "      <td>37.766210</td>\n",
       "      <td>-122.426614</td>\n",
       "      <td>86</td>\n",
       "      <td>Market St at Dolores St</td>\n",
       "      <td>37.769305</td>\n",
       "      <td>-122.426826</td>\n",
       "      <td>2728</td>\n",
       "      <td>Subscriber</td>\n",
       "      <td>152</td>\n",
       "    </tr>\n",
       "    <tr>\n",
       "      <th>36</th>\n",
       "      <td>249</td>\n",
       "      <td>2017-12-31 23:38:37.736</td>\n",
       "      <td>2017-12-31 23:42:47.211</td>\n",
       "      <td>278</td>\n",
       "      <td>The Alameda at Bush St</td>\n",
       "      <td>37.331932</td>\n",
       "      <td>-121.904888</td>\n",
       "      <td>314</td>\n",
       "      <td>Santa Clara St at Almaden Blvd</td>\n",
       "      <td>37.333988</td>\n",
       "      <td>-121.894902</td>\n",
       "      <td>47</td>\n",
       "      <td>Subscriber</td>\n",
       "      <td>249</td>\n",
       "    </tr>\n",
       "    <tr>\n",
       "      <th>37</th>\n",
       "      <td>2511</td>\n",
       "      <td>2017-12-31 22:58:26.524</td>\n",
       "      <td>2017-12-31 23:40:17.987</td>\n",
       "      <td>30</td>\n",
       "      <td>San Francisco Caltrain (Townsend St at 4th St)</td>\n",
       "      <td>37.776598</td>\n",
       "      <td>-122.395282</td>\n",
       "      <td>6</td>\n",
       "      <td>The Embarcadero at Sansome St</td>\n",
       "      <td>37.804770</td>\n",
       "      <td>-122.403234</td>\n",
       "      <td>3329</td>\n",
       "      <td>Customer</td>\n",
       "      <td>2511</td>\n",
       "    </tr>\n",
       "    <tr>\n",
       "      <th>38</th>\n",
       "      <td>2896</td>\n",
       "      <td>2017-12-31 22:51:00.751</td>\n",
       "      <td>2017-12-31 23:39:17.543</td>\n",
       "      <td>30</td>\n",
       "      <td>San Francisco Caltrain (Townsend St at 4th St)</td>\n",
       "      <td>37.776598</td>\n",
       "      <td>-122.395282</td>\n",
       "      <td>6</td>\n",
       "      <td>The Embarcadero at Sansome St</td>\n",
       "      <td>37.804770</td>\n",
       "      <td>-122.403234</td>\n",
       "      <td>970</td>\n",
       "      <td>Customer</td>\n",
       "      <td>2896</td>\n",
       "    </tr>\n",
       "    <tr>\n",
       "      <th>39</th>\n",
       "      <td>243</td>\n",
       "      <td>2017-12-31 23:34:46.302</td>\n",
       "      <td>2017-12-31 23:38:49.303</td>\n",
       "      <td>182</td>\n",
       "      <td>19th Street BART Station</td>\n",
       "      <td>37.809013</td>\n",
       "      <td>-122.268247</td>\n",
       "      <td>195</td>\n",
       "      <td>Bay Pl at Vernon St</td>\n",
       "      <td>37.812314</td>\n",
       "      <td>-122.260779</td>\n",
       "      <td>2674</td>\n",
       "      <td>Subscriber</td>\n",
       "      <td>243</td>\n",
       "    </tr>\n",
       "    <tr>\n",
       "      <th>40</th>\n",
       "      <td>833</td>\n",
       "      <td>2017-12-31 23:24:48.513</td>\n",
       "      <td>2017-12-31 23:38:41.520</td>\n",
       "      <td>98</td>\n",
       "      <td>Valencia St at 16th St</td>\n",
       "      <td>37.765052</td>\n",
       "      <td>-122.421866</td>\n",
       "      <td>62</td>\n",
       "      <td>Victoria Manalo Draves Park</td>\n",
       "      <td>37.777791</td>\n",
       "      <td>-122.406432</td>\n",
       "      <td>1227</td>\n",
       "      <td>Subscriber</td>\n",
       "      <td>833</td>\n",
       "    </tr>\n",
       "    <tr>\n",
       "      <th>41</th>\n",
       "      <td>820</td>\n",
       "      <td>2017-12-31 23:24:49.373</td>\n",
       "      <td>2017-12-31 23:38:29.829</td>\n",
       "      <td>98</td>\n",
       "      <td>Valencia St at 16th St</td>\n",
       "      <td>37.765052</td>\n",
       "      <td>-122.421866</td>\n",
       "      <td>62</td>\n",
       "      <td>Victoria Manalo Draves Park</td>\n",
       "      <td>37.777791</td>\n",
       "      <td>-122.406432</td>\n",
       "      <td>3595</td>\n",
       "      <td>Subscriber</td>\n",
       "      <td>820</td>\n",
       "    </tr>\n",
       "    <tr>\n",
       "      <th>42</th>\n",
       "      <td>602</td>\n",
       "      <td>2017-12-31 23:26:51.153</td>\n",
       "      <td>2017-12-31 23:36:53.456</td>\n",
       "      <td>19</td>\n",
       "      <td>Post St at Kearny St</td>\n",
       "      <td>37.788975</td>\n",
       "      <td>-122.403452</td>\n",
       "      <td>16</td>\n",
       "      <td>Steuart St at Market St</td>\n",
       "      <td>37.794130</td>\n",
       "      <td>-122.394430</td>\n",
       "      <td>2828</td>\n",
       "      <td>Customer</td>\n",
       "      <td>602</td>\n",
       "    </tr>\n",
       "    <tr>\n",
       "      <th>43</th>\n",
       "      <td>1269</td>\n",
       "      <td>2017-12-31 23:15:14.580</td>\n",
       "      <td>2017-12-31 23:36:23.608</td>\n",
       "      <td>66</td>\n",
       "      <td>3rd St at Townsend St</td>\n",
       "      <td>37.778742</td>\n",
       "      <td>-122.392741</td>\n",
       "      <td>23</td>\n",
       "      <td>The Embarcadero at Steuart St</td>\n",
       "      <td>37.791464</td>\n",
       "      <td>-122.391034</td>\n",
       "      <td>3344</td>\n",
       "      <td>Customer</td>\n",
       "      <td>1269</td>\n",
       "    </tr>\n",
       "    <tr>\n",
       "      <th>44</th>\n",
       "      <td>1247</td>\n",
       "      <td>2017-12-31 23:15:31.514</td>\n",
       "      <td>2017-12-31 23:36:19.216</td>\n",
       "      <td>66</td>\n",
       "      <td>3rd St at Townsend St</td>\n",
       "      <td>37.778742</td>\n",
       "      <td>-122.392741</td>\n",
       "      <td>23</td>\n",
       "      <td>The Embarcadero at Steuart St</td>\n",
       "      <td>37.791464</td>\n",
       "      <td>-122.391034</td>\n",
       "      <td>1019</td>\n",
       "      <td>Customer</td>\n",
       "      <td>1247</td>\n",
       "    </tr>\n",
       "    <tr>\n",
       "      <th>45</th>\n",
       "      <td>5290</td>\n",
       "      <td>2017-12-31 22:06:44.415</td>\n",
       "      <td>2017-12-31 23:34:54.458</td>\n",
       "      <td>42</td>\n",
       "      <td>San Francisco City Hall (Polk St at Grove St)</td>\n",
       "      <td>37.778650</td>\n",
       "      <td>-122.418230</td>\n",
       "      <td>8</td>\n",
       "      <td>The Embarcadero at Vallejo St</td>\n",
       "      <td>37.799953</td>\n",
       "      <td>-122.398525</td>\n",
       "      <td>1717</td>\n",
       "      <td>Customer</td>\n",
       "      <td>5290</td>\n",
       "    </tr>\n",
       "    <tr>\n",
       "      <th>46</th>\n",
       "      <td>538</td>\n",
       "      <td>2017-12-31 23:24:34.580</td>\n",
       "      <td>2017-12-31 23:33:33.475</td>\n",
       "      <td>85</td>\n",
       "      <td>Church St at Duboce Ave</td>\n",
       "      <td>37.770083</td>\n",
       "      <td>-122.429156</td>\n",
       "      <td>120</td>\n",
       "      <td>Mission Dolores Park</td>\n",
       "      <td>37.761420</td>\n",
       "      <td>-122.426435</td>\n",
       "      <td>1780</td>\n",
       "      <td>Customer</td>\n",
       "      <td>538</td>\n",
       "    </tr>\n",
       "    <tr>\n",
       "      <th>47</th>\n",
       "      <td>577</td>\n",
       "      <td>2017-12-31 23:20:38.013</td>\n",
       "      <td>2017-12-31 23:30:15.883</td>\n",
       "      <td>124</td>\n",
       "      <td>19th St at Florida St</td>\n",
       "      <td>37.760447</td>\n",
       "      <td>-122.410807</td>\n",
       "      <td>134</td>\n",
       "      <td>Valencia St at 24th St</td>\n",
       "      <td>37.752428</td>\n",
       "      <td>-122.420628</td>\n",
       "      <td>3067</td>\n",
       "      <td>Subscriber</td>\n",
       "      <td>577</td>\n",
       "    </tr>\n",
       "    <tr>\n",
       "      <th>48</th>\n",
       "      <td>418</td>\n",
       "      <td>2017-12-31 23:22:04.850</td>\n",
       "      <td>2017-12-31 23:29:03.008</td>\n",
       "      <td>249</td>\n",
       "      <td>Russell St at College Ave</td>\n",
       "      <td>37.858473</td>\n",
       "      <td>-122.253253</td>\n",
       "      <td>172</td>\n",
       "      <td>College Ave at Taft Ave</td>\n",
       "      <td>37.841800</td>\n",
       "      <td>-122.251535</td>\n",
       "      <td>1439</td>\n",
       "      <td>Subscriber</td>\n",
       "      <td>418</td>\n",
       "    </tr>\n",
       "    <tr>\n",
       "      <th>49</th>\n",
       "      <td>782</td>\n",
       "      <td>2017-12-31 23:15:25.758</td>\n",
       "      <td>2017-12-31 23:28:28.372</td>\n",
       "      <td>6</td>\n",
       "      <td>The Embarcadero at Sansome St</td>\n",
       "      <td>37.804770</td>\n",
       "      <td>-122.403234</td>\n",
       "      <td>6</td>\n",
       "      <td>The Embarcadero at Sansome St</td>\n",
       "      <td>37.804770</td>\n",
       "      <td>-122.403234</td>\n",
       "      <td>1691</td>\n",
       "      <td>Customer</td>\n",
       "      <td>782</td>\n",
       "    </tr>\n",
       "  </tbody>\n",
       "</table>\n",
       "</div>"
      ],
      "text/plain": [
       "    duration_sec              start_time                end_time  \\\n",
       "0          80110 2017-12-31 16:57:39.654 2018-01-01 15:12:50.245   \n",
       "1          78800 2017-12-31 15:56:34.842 2018-01-01 13:49:55.617   \n",
       "2          45768 2017-12-31 22:45:48.411 2018-01-01 11:28:36.883   \n",
       "3          62172 2017-12-31 17:31:10.636 2018-01-01 10:47:23.531   \n",
       "4          43603 2017-12-31 14:23:14.001 2018-01-01 02:29:57.571   \n",
       "5           9226 2017-12-31 22:51:00.918 2018-01-01 01:24:47.166   \n",
       "6           4507 2017-12-31 23:49:28.422 2018-01-01 01:04:35.619   \n",
       "7           4334 2017-12-31 23:46:37.196 2018-01-01 00:58:51.211   \n",
       "8           4150 2017-12-31 23:37:07.548 2018-01-01 00:46:18.308   \n",
       "9           4238 2017-12-31 23:35:38.145 2018-01-01 00:46:17.053   \n",
       "10          3292 2017-12-31 23:46:32.403 2018-01-01 00:41:24.605   \n",
       "11          3177 2017-12-31 23:48:11.757 2018-01-01 00:41:09.581   \n",
       "12          2183 2017-12-31 23:52:55.581 2018-01-01 00:29:18.743   \n",
       "13          2170 2017-12-31 23:52:55.937 2018-01-01 00:29:06.924   \n",
       "14          2697 2017-12-31 23:35:23.222 2018-01-01 00:20:20.813   \n",
       "15          1544 2017-12-31 23:53:38.943 2018-01-01 00:19:23.047   \n",
       "16          1474 2017-12-31 23:54:40.146 2018-01-01 00:19:14.351   \n",
       "17          1397 2017-12-31 23:55:09.686 2018-01-01 00:18:26.721   \n",
       "18          1532 2017-12-31 23:52:49.497 2018-01-01 00:18:21.953   \n",
       "19          1216 2017-12-31 23:46:33.993 2018-01-01 00:06:50.058   \n",
       "20           386 2017-12-31 23:59:01.261 2018-01-01 00:05:27.809   \n",
       "21          4174 2017-12-31 22:52:22.286 2018-01-01 00:01:56.614   \n",
       "22           422 2017-12-31 23:54:25.337 2018-01-01 00:01:27.354   \n",
       "23          1165 2017-12-31 23:35:55.543 2017-12-31 23:55:21.220   \n",
       "24          1149 2017-12-31 23:36:03.555 2017-12-31 23:55:13.465   \n",
       "25          1130 2017-12-31 23:36:16.069 2017-12-31 23:55:06.096   \n",
       "26          1003 2017-12-31 23:36:34.548 2017-12-31 23:53:18.195   \n",
       "27           862 2017-12-31 23:38:24.874 2017-12-31 23:52:47.542   \n",
       "28           871 2017-12-31 23:37:47.192 2017-12-31 23:52:18.473   \n",
       "29           784 2017-12-31 23:39:13.084 2017-12-31 23:52:17.293   \n",
       "30           767 2017-12-31 23:39:29.839 2017-12-31 23:52:17.122   \n",
       "31          5193 2017-12-31 22:25:08.572 2017-12-31 23:51:42.380   \n",
       "32           733 2017-12-31 23:38:38.861 2017-12-31 23:50:52.504   \n",
       "33           781 2017-12-31 23:33:52.981 2017-12-31 23:46:54.972   \n",
       "34           475 2017-12-31 23:37:35.545 2017-12-31 23:45:30.808   \n",
       "35           152 2017-12-31 23:41:32.917 2017-12-31 23:44:05.047   \n",
       "36           249 2017-12-31 23:38:37.736 2017-12-31 23:42:47.211   \n",
       "37          2511 2017-12-31 22:58:26.524 2017-12-31 23:40:17.987   \n",
       "38          2896 2017-12-31 22:51:00.751 2017-12-31 23:39:17.543   \n",
       "39           243 2017-12-31 23:34:46.302 2017-12-31 23:38:49.303   \n",
       "40           833 2017-12-31 23:24:48.513 2017-12-31 23:38:41.520   \n",
       "41           820 2017-12-31 23:24:49.373 2017-12-31 23:38:29.829   \n",
       "42           602 2017-12-31 23:26:51.153 2017-12-31 23:36:53.456   \n",
       "43          1269 2017-12-31 23:15:14.580 2017-12-31 23:36:23.608   \n",
       "44          1247 2017-12-31 23:15:31.514 2017-12-31 23:36:19.216   \n",
       "45          5290 2017-12-31 22:06:44.415 2017-12-31 23:34:54.458   \n",
       "46           538 2017-12-31 23:24:34.580 2017-12-31 23:33:33.475   \n",
       "47           577 2017-12-31 23:20:38.013 2017-12-31 23:30:15.883   \n",
       "48           418 2017-12-31 23:22:04.850 2017-12-31 23:29:03.008   \n",
       "49           782 2017-12-31 23:15:25.758 2017-12-31 23:28:28.372   \n",
       "\n",
       "   start_station_id                                 start_station_name  \\\n",
       "0                74                              Laguna St at Hayes St   \n",
       "1               284  Yerba Buena Center for the Arts (Howard St at ...   \n",
       "2               245                             Downtown Berkeley BART   \n",
       "3                60                               8th St at Ringold St   \n",
       "4               239                      Bancroft Way at Telegraph Ave   \n",
       "5                30     San Francisco Caltrain (Townsend St at 4th St)   \n",
       "6               259                            Addison St at Fourth St   \n",
       "7               284  Yerba Buena Center for the Arts (Howard St at ...   \n",
       "8                20    Mechanics Monument Plaza (Market St at Bush St)   \n",
       "9                20    Mechanics Monument Plaza (Market St at Bush St)   \n",
       "10              284  Yerba Buena Center for the Arts (Howard St at ...   \n",
       "11              284  Yerba Buena Center for the Arts (Howard St at ...   \n",
       "12               67  San Francisco Caltrain Station 2  (Townsend St...   \n",
       "13               67  San Francisco Caltrain Station 2  (Townsend St...   \n",
       "14               66                              3rd St at Townsend St   \n",
       "15               14                              Clay St at Battery St   \n",
       "16               14                              Clay St at Battery St   \n",
       "17               78                                Folsom St at 9th St   \n",
       "18               78                                Folsom St at 9th St   \n",
       "19                4                        Cyril Magnin St at Ellis St   \n",
       "20              317                          San Salvador St at 9th St   \n",
       "21               30     San Francisco Caltrain (Townsend St at 4th St)   \n",
       "22              139           Garfield Square (25th St at Harrison St)   \n",
       "23               66                              3rd St at Townsend St   \n",
       "24               66                              3rd St at Townsend St   \n",
       "25               66                              3rd St at Townsend St   \n",
       "26               66                              3rd St at Townsend St   \n",
       "27                6                      The Embarcadero at Sansome St   \n",
       "28              323                                 Broadway at Kearny   \n",
       "29                6                      The Embarcadero at Sansome St   \n",
       "30                6                      The Embarcadero at Sansome St   \n",
       "31               49                                S Park St at 3rd St   \n",
       "32              323                                 Broadway at Kearny   \n",
       "33              251                    California St at University Ave   \n",
       "34                7                                Frank H Ogawa Plaza   \n",
       "35               96                              Dolores St at 15th St   \n",
       "36              278                             The Alameda at Bush St   \n",
       "37               30     San Francisco Caltrain (Townsend St at 4th St)   \n",
       "38               30     San Francisco Caltrain (Townsend St at 4th St)   \n",
       "39              182                           19th Street BART Station   \n",
       "40               98                             Valencia St at 16th St   \n",
       "41               98                             Valencia St at 16th St   \n",
       "42               19                               Post St at Kearny St   \n",
       "43               66                              3rd St at Townsend St   \n",
       "44               66                              3rd St at Townsend St   \n",
       "45               42      San Francisco City Hall (Polk St at Grove St)   \n",
       "46               85                            Church St at Duboce Ave   \n",
       "47              124                              19th St at Florida St   \n",
       "48              249                          Russell St at College Ave   \n",
       "49                6                      The Embarcadero at Sansome St   \n",
       "\n",
       "    start_station_latitude  start_station_longitude end_station_id  \\\n",
       "0                37.776435              -122.426244             43   \n",
       "1                37.784872              -122.400876             96   \n",
       "2                37.870348              -122.267764            245   \n",
       "3                37.774520              -122.409449              5   \n",
       "4                37.868813              -122.258764            247   \n",
       "5                37.776598              -122.395282             30   \n",
       "6                37.866249              -122.299371            259   \n",
       "7                37.784872              -122.400876            284   \n",
       "8                37.791300              -122.399051             20   \n",
       "9                37.791300              -122.399051             20   \n",
       "10               37.784872              -122.400876             22   \n",
       "11               37.784872              -122.400876             22   \n",
       "12               37.776639              -122.395526             24   \n",
       "13               37.776639              -122.395526             24   \n",
       "14               37.778742              -122.392741             23   \n",
       "15               37.795001              -122.399970             27   \n",
       "16               37.795001              -122.399970             27   \n",
       "17               37.773717              -122.411647             15   \n",
       "18               37.773717              -122.411647             15   \n",
       "19               37.785881              -122.408915            123   \n",
       "20               37.333955              -121.877349            296   \n",
       "21               37.776598              -122.395282              6   \n",
       "22               37.751017              -122.411901             99   \n",
       "23               37.778742              -122.392741             23   \n",
       "24               37.778742              -122.392741             23   \n",
       "25               37.778742              -122.392741             23   \n",
       "26               37.778742              -122.392741             23   \n",
       "27               37.804770              -122.403234             15   \n",
       "28               37.798014              -122.405950             14   \n",
       "29               37.804770              -122.403234             15   \n",
       "30               37.804770              -122.403234             15   \n",
       "31               37.780760              -122.394989             11   \n",
       "32               37.798014              -122.405950             14   \n",
       "33               37.870555              -122.279720            259   \n",
       "34               37.804562              -122.271738            230   \n",
       "35               37.766210              -122.426614             86   \n",
       "36               37.331932              -121.904888            314   \n",
       "37               37.776598              -122.395282              6   \n",
       "38               37.776598              -122.395282              6   \n",
       "39               37.809013              -122.268247            195   \n",
       "40               37.765052              -122.421866             62   \n",
       "41               37.765052              -122.421866             62   \n",
       "42               37.788975              -122.403452             16   \n",
       "43               37.778742              -122.392741             23   \n",
       "44               37.778742              -122.392741             23   \n",
       "45               37.778650              -122.418230              8   \n",
       "46               37.770083              -122.429156            120   \n",
       "47               37.760447              -122.410807            134   \n",
       "48               37.858473              -122.253253            172   \n",
       "49               37.804770              -122.403234              6   \n",
       "\n",
       "                                     end_station_name  end_station_latitude  \\\n",
       "0   San Francisco Public Library (Grove St at Hyde...             37.778768   \n",
       "1                               Dolores St at 15th St             37.766210   \n",
       "2                              Downtown Berkeley BART             37.870348   \n",
       "3        Powell St BART Station (Market St at 5th St)             37.783899   \n",
       "4                           Fulton St at Bancroft Way             37.867789   \n",
       "5      San Francisco Caltrain (Townsend St at 4th St)             37.776598   \n",
       "6                             Addison St at Fourth St             37.866249   \n",
       "7   Yerba Buena Center for the Arts (Howard St at ...             37.784872   \n",
       "8     Mechanics Monument Plaza (Market St at Bush St)             37.791300   \n",
       "9     Mechanics Monument Plaza (Market St at Bush St)             37.791300   \n",
       "10                              Howard St at Beale St             37.789756   \n",
       "11                              Howard St at Beale St             37.789756   \n",
       "12                              Spear St at Folsom St             37.789677   \n",
       "13                              Spear St at Folsom St             37.789677   \n",
       "14                      The Embarcadero at Steuart St             37.791464   \n",
       "15                            Beale St at Harrison St             37.788059   \n",
       "16                            Beale St at Harrison St             37.788059   \n",
       "17  San Francisco Ferry Building (Harry Bridges Pl...             37.795392   \n",
       "18  San Francisco Ferry Building (Harry Bridges Pl...             37.795392   \n",
       "19                               Folsom St at 19th St             37.760594   \n",
       "20                              5th St at Virginia St             37.325998   \n",
       "21                      The Embarcadero at Sansome St             37.804770   \n",
       "22                               Folsom St at 15th St             37.767037   \n",
       "23                      The Embarcadero at Steuart St             37.791464   \n",
       "24                      The Embarcadero at Steuart St             37.791464   \n",
       "25                      The Embarcadero at Steuart St             37.791464   \n",
       "26                      The Embarcadero at Steuart St             37.791464   \n",
       "27  San Francisco Ferry Building (Harry Bridges Pl...             37.795392   \n",
       "28                              Clay St at Battery St             37.795001   \n",
       "29  San Francisco Ferry Building (Harry Bridges Pl...             37.795392   \n",
       "30  San Francisco Ferry Building (Harry Bridges Pl...             37.795392   \n",
       "31                             Davis St at Jackson St             37.797280   \n",
       "32                              Clay St at Battery St             37.795001   \n",
       "33                            Addison St at Fourth St             37.866249   \n",
       "34                            14th St at Mandela Pkwy             37.810743   \n",
       "35                            Market St at Dolores St             37.769305   \n",
       "36                     Santa Clara St at Almaden Blvd             37.333988   \n",
       "37                      The Embarcadero at Sansome St             37.804770   \n",
       "38                      The Embarcadero at Sansome St             37.804770   \n",
       "39                                Bay Pl at Vernon St             37.812314   \n",
       "40                        Victoria Manalo Draves Park             37.777791   \n",
       "41                        Victoria Manalo Draves Park             37.777791   \n",
       "42                            Steuart St at Market St             37.794130   \n",
       "43                      The Embarcadero at Steuart St             37.791464   \n",
       "44                      The Embarcadero at Steuart St             37.791464   \n",
       "45                      The Embarcadero at Vallejo St             37.799953   \n",
       "46                               Mission Dolores Park             37.761420   \n",
       "47                             Valencia St at 24th St             37.752428   \n",
       "48                            College Ave at Taft Ave             37.841800   \n",
       "49                      The Embarcadero at Sansome St             37.804770   \n",
       "\n",
       "    end_station_longitude bike_id   user_type   diff  \n",
       "0             -122.415929      96    Customer  80110  \n",
       "1             -122.426614      88    Customer  78800  \n",
       "2             -122.267764    1094    Customer  45768  \n",
       "3             -122.408445    2831    Customer  62172  \n",
       "4             -122.265896    3167  Subscriber  43603  \n",
       "5             -122.395282    1487    Customer   9226  \n",
       "6             -122.299371    3539    Customer   4507  \n",
       "7             -122.400876    1503    Customer   4334  \n",
       "8             -122.399051    3125    Customer   4150  \n",
       "9             -122.399051    2543    Customer   4238  \n",
       "10            -122.394643    3058    Customer   3292  \n",
       "11            -122.394643    3197    Customer   3177  \n",
       "12            -122.390428    2311  Subscriber   2183  \n",
       "13            -122.390428    3717  Subscriber   2170  \n",
       "14            -122.391034    3452    Customer   2697  \n",
       "15            -122.391865     558  Subscriber   1544  \n",
       "16            -122.391865    3646  Subscriber   1474  \n",
       "17            -122.394203    1667    Customer   1397  \n",
       "18            -122.394203    3114  Subscriber   1532  \n",
       "19            -122.414817    1473  Subscriber   1216  \n",
       "20            -121.877120    1603  Subscriber    386  \n",
       "21            -122.403234     809    Customer   4174  \n",
       "22            -122.415443    2415  Subscriber    422  \n",
       "23            -122.391034    3671    Customer   1165  \n",
       "24            -122.391034    3375    Customer   1149  \n",
       "25            -122.391034    2721    Customer   1130  \n",
       "26            -122.391034    2522    Customer   1003  \n",
       "27            -122.394203     533    Customer    862  \n",
       "28            -122.399970    1456  Subscriber    871  \n",
       "29            -122.394203    1691    Customer    784  \n",
       "30            -122.394203    1568    Customer    767  \n",
       "31            -122.398436    2823    Customer   5193  \n",
       "32            -122.399970    1634  Subscriber    733  \n",
       "33            -122.299371    3539    Customer    781  \n",
       "34            -122.291415    3598  Subscriber    475  \n",
       "35            -122.426826    2728  Subscriber    152  \n",
       "36            -121.894902      47  Subscriber    249  \n",
       "37            -122.403234    3329    Customer   2511  \n",
       "38            -122.403234     970    Customer   2896  \n",
       "39            -122.260779    2674  Subscriber    243  \n",
       "40            -122.406432    1227  Subscriber    833  \n",
       "41            -122.406432    3595  Subscriber    820  \n",
       "42            -122.394430    2828    Customer    602  \n",
       "43            -122.391034    3344    Customer   1269  \n",
       "44            -122.391034    1019    Customer   1247  \n",
       "45            -122.398525    1717    Customer   5290  \n",
       "46            -122.426435    1780    Customer    538  \n",
       "47            -122.420628    3067  Subscriber    577  \n",
       "48            -122.251535    1439  Subscriber    418  \n",
       "49            -122.403234    1691    Customer    782  "
      ]
     },
     "execution_count": 17,
     "metadata": {},
     "output_type": "execute_result"
    }
   ],
   "source": [
    "# Show data\n",
    "df_clean.head(50)\n",
    "\n"
   ]
  },
  {
   "cell_type": "code",
   "execution_count": 18,
   "metadata": {
    "slideshow": {
     "slide_type": "skip"
    }
   },
   "outputs": [],
   "source": [
    "# Check if the given duration equal to calculated duration\n",
    "k=0;\n",
    "not_matching =[]\n",
    "for k in range(df_clean.shape[0]):\n",
    "    if df_clean['duration_sec'].loc[k] == df_clean['duration_sec'].loc[k]:\n",
    "        not_matching += [1]\n",
    "        k=k+1\n",
    "    else:\n",
    "        not_matching += [0]\n",
    "        k=k+1\n",
    "    "
   ]
  },
  {
   "cell_type": "code",
   "execution_count": 19,
   "metadata": {
    "slideshow": {
     "slide_type": "skip"
    }
   },
   "outputs": [
    {
     "data": {
      "text/plain": [
       "519700"
      ]
     },
     "execution_count": 19,
     "metadata": {},
     "output_type": "execute_result"
    }
   ],
   "source": [
    "# Number of mathced records\n",
    "sum(not_matching)"
   ]
  },
  {
   "cell_type": "code",
   "execution_count": 20,
   "metadata": {
    "slideshow": {
     "slide_type": "skip"
    }
   },
   "outputs": [],
   "source": [
    "# Create distance coulmn \n",
    "from math import sin, cos, sqrt, atan2, radians\n",
    "\n",
    "def distance (lat1,lon1,lat2,lon2):\n",
    "    R = 6373.0\n",
    "    \n",
    "    lat1 = radians(lat1)\n",
    "    lon1 = radians(lon1)\n",
    "    lat2 = radians(lat2)\n",
    "    lon2 = radians(lon2)\n",
    "\n",
    "    dlon = lon2 - lon1\n",
    "    dlat = lat2 - lat1\n",
    "\n",
    "    a = sin(dlat / 2)**2 + cos(lat1) * cos(lat2) * sin(dlon / 2)**2\n",
    "    c = 2 * atan2(sqrt(a), sqrt(1 - a))\n",
    "\n",
    "    distance = R * c\n",
    "    return np.float64(round(1000*distance))"
   ]
  },
  {
   "cell_type": "code",
   "execution_count": 21,
   "metadata": {
    "slideshow": {
     "slide_type": "skip"
    }
   },
   "outputs": [],
   "source": [
    "\n",
    "df_clean['distance'] = df_clean.apply(lambda row: distance(row['start_station_latitude'],row['start_station_longitude'],row['end_station_latitude'],row['end_station_longitude']),axis=1)"
   ]
  },
  {
   "cell_type": "code",
   "execution_count": 22,
   "metadata": {
    "slideshow": {
     "slide_type": "skip"
    }
   },
   "outputs": [],
   "source": [
    "# Drop zero distance\n",
    "df_clean = df_clean[df_clean['distance'] != 0]"
   ]
  },
  {
   "cell_type": "code",
   "execution_count": 23,
   "metadata": {
    "slideshow": {
     "slide_type": "skip"
    }
   },
   "outputs": [
    {
     "data": {
      "text/plain": [
       "1311.0    5161\n",
       "1414.0    4259\n",
       "1073.0    3536\n",
       "2172.0    3125\n",
       "752.0     3105\n",
       "          ... \n",
       "3537.0       1\n",
       "5028.0       1\n",
       "4976.0       1\n",
       "3827.0       1\n",
       "6095.0       1\n",
       "Name: distance, Length: 4590, dtype: int64"
      ]
     },
     "execution_count": 23,
     "metadata": {},
     "output_type": "execute_result"
    }
   ],
   "source": [
    "df_clean['distance'].value_counts()"
   ]
  },
  {
   "cell_type": "code",
   "execution_count": 24,
   "metadata": {
    "slideshow": {
     "slide_type": "skip"
    }
   },
   "outputs": [
    {
     "data": {
      "text/html": [
       "<div>\n",
       "<style scoped>\n",
       "    .dataframe tbody tr th:only-of-type {\n",
       "        vertical-align: middle;\n",
       "    }\n",
       "\n",
       "    .dataframe tbody tr th {\n",
       "        vertical-align: top;\n",
       "    }\n",
       "\n",
       "    .dataframe thead th {\n",
       "        text-align: right;\n",
       "    }\n",
       "</style>\n",
       "<table border=\"1\" class=\"dataframe\">\n",
       "  <thead>\n",
       "    <tr style=\"text-align: right;\">\n",
       "      <th></th>\n",
       "      <th>duration_sec</th>\n",
       "      <th>start_station_latitude</th>\n",
       "      <th>start_station_longitude</th>\n",
       "      <th>end_station_latitude</th>\n",
       "      <th>end_station_longitude</th>\n",
       "      <th>diff</th>\n",
       "      <th>distance</th>\n",
       "    </tr>\n",
       "  </thead>\n",
       "  <tbody>\n",
       "    <tr>\n",
       "      <th>count</th>\n",
       "      <td>501566.000000</td>\n",
       "      <td>501566.000000</td>\n",
       "      <td>501566.000000</td>\n",
       "      <td>501566.000000</td>\n",
       "      <td>501566.000000</td>\n",
       "      <td>501566.000000</td>\n",
       "      <td>501566.000000</td>\n",
       "    </tr>\n",
       "    <tr>\n",
       "      <th>mean</th>\n",
       "      <td>996.687698</td>\n",
       "      <td>37.772223</td>\n",
       "      <td>-122.365537</td>\n",
       "      <td>37.772421</td>\n",
       "      <td>-122.364821</td>\n",
       "      <td>996.615925</td>\n",
       "      <td>1644.974382</td>\n",
       "    </tr>\n",
       "    <tr>\n",
       "      <th>std</th>\n",
       "      <td>3143.980066</td>\n",
       "      <td>0.084102</td>\n",
       "      <td>0.103358</td>\n",
       "      <td>0.084015</td>\n",
       "      <td>0.102892</td>\n",
       "      <td>3142.612091</td>\n",
       "      <td>981.859418</td>\n",
       "    </tr>\n",
       "    <tr>\n",
       "      <th>min</th>\n",
       "      <td>61.000000</td>\n",
       "      <td>37.317298</td>\n",
       "      <td>-122.444293</td>\n",
       "      <td>37.317298</td>\n",
       "      <td>-122.444293</td>\n",
       "      <td>-3307.000000</td>\n",
       "      <td>13.000000</td>\n",
       "    </tr>\n",
       "    <tr>\n",
       "      <th>25%</th>\n",
       "      <td>380.000000</td>\n",
       "      <td>37.773507</td>\n",
       "      <td>-122.411738</td>\n",
       "      <td>37.774520</td>\n",
       "      <td>-122.410345</td>\n",
       "      <td>380.000000</td>\n",
       "      <td>951.000000</td>\n",
       "    </tr>\n",
       "    <tr>\n",
       "      <th>50%</th>\n",
       "      <td>587.000000</td>\n",
       "      <td>37.782411</td>\n",
       "      <td>-122.398870</td>\n",
       "      <td>37.783813</td>\n",
       "      <td>-122.398773</td>\n",
       "      <td>587.000000</td>\n",
       "      <td>1426.000000</td>\n",
       "    </tr>\n",
       "    <tr>\n",
       "      <th>75%</th>\n",
       "      <td>906.000000</td>\n",
       "      <td>37.795392</td>\n",
       "      <td>-122.391198</td>\n",
       "      <td>37.795392</td>\n",
       "      <td>-122.391198</td>\n",
       "      <td>906.000000</td>\n",
       "      <td>2089.000000</td>\n",
       "    </tr>\n",
       "    <tr>\n",
       "      <th>max</th>\n",
       "      <td>86355.000000</td>\n",
       "      <td>37.880222</td>\n",
       "      <td>-121.874119</td>\n",
       "      <td>37.880222</td>\n",
       "      <td>-121.874119</td>\n",
       "      <td>86355.000000</td>\n",
       "      <td>68208.000000</td>\n",
       "    </tr>\n",
       "  </tbody>\n",
       "</table>\n",
       "</div>"
      ],
      "text/plain": [
       "        duration_sec  start_station_latitude  start_station_longitude  \\\n",
       "count  501566.000000           501566.000000            501566.000000   \n",
       "mean      996.687698               37.772223              -122.365537   \n",
       "std      3143.980066                0.084102                 0.103358   \n",
       "min        61.000000               37.317298              -122.444293   \n",
       "25%       380.000000               37.773507              -122.411738   \n",
       "50%       587.000000               37.782411              -122.398870   \n",
       "75%       906.000000               37.795392              -122.391198   \n",
       "max     86355.000000               37.880222              -121.874119   \n",
       "\n",
       "       end_station_latitude  end_station_longitude           diff  \\\n",
       "count         501566.000000          501566.000000  501566.000000   \n",
       "mean              37.772421            -122.364821     996.615925   \n",
       "std                0.084015               0.102892    3142.612091   \n",
       "min               37.317298            -122.444293   -3307.000000   \n",
       "25%               37.774520            -122.410345     380.000000   \n",
       "50%               37.783813            -122.398773     587.000000   \n",
       "75%               37.795392            -122.391198     906.000000   \n",
       "max               37.880222            -121.874119   86355.000000   \n",
       "\n",
       "            distance  \n",
       "count  501566.000000  \n",
       "mean     1644.974382  \n",
       "std       981.859418  \n",
       "min        13.000000  \n",
       "25%       951.000000  \n",
       "50%      1426.000000  \n",
       "75%      2089.000000  \n",
       "max     68208.000000  "
      ]
     },
     "execution_count": 24,
     "metadata": {},
     "output_type": "execute_result"
    }
   ],
   "source": [
    "# Read descriptive data statistics\n",
    "df_clean.describe()"
   ]
  },
  {
   "cell_type": "code",
   "execution_count": 25,
   "metadata": {
    "slideshow": {
     "slide_type": "skip"
    }
   },
   "outputs": [
    {
     "name": "stdout",
     "output_type": "stream",
     "text": [
      "<class 'pandas.core.frame.DataFrame'>\n",
      "Int64Index: 501566 entries, 0 to 519699\n",
      "Data columns (total 15 columns):\n",
      " #   Column                   Non-Null Count   Dtype         \n",
      "---  ------                   --------------   -----         \n",
      " 0   duration_sec             501566 non-null  int64         \n",
      " 1   start_time               501566 non-null  datetime64[ns]\n",
      " 2   end_time                 501566 non-null  datetime64[ns]\n",
      " 3   start_station_id         501566 non-null  object        \n",
      " 4   start_station_name       501566 non-null  object        \n",
      " 5   start_station_latitude   501566 non-null  float64       \n",
      " 6   start_station_longitude  501566 non-null  float64       \n",
      " 7   end_station_id           501566 non-null  object        \n",
      " 8   end_station_name         501566 non-null  object        \n",
      " 9   end_station_latitude     501566 non-null  float64       \n",
      " 10  end_station_longitude    501566 non-null  float64       \n",
      " 11  bike_id                  501566 non-null  object        \n",
      " 12  user_type                501566 non-null  object        \n",
      " 13  diff                     501566 non-null  int64         \n",
      " 14  distance                 501566 non-null  float64       \n",
      "dtypes: datetime64[ns](2), float64(5), int64(2), object(6)\n",
      "memory usage: 61.2+ MB\n"
     ]
    }
   ],
   "source": [
    "# Read dataset general information\n",
    "df_clean.info()"
   ]
  },
  {
   "cell_type": "code",
   "execution_count": 26,
   "metadata": {
    "slideshow": {
     "slide_type": "skip"
    }
   },
   "outputs": [
    {
     "data": {
      "text/html": [
       "<div>\n",
       "<style scoped>\n",
       "    .dataframe tbody tr th:only-of-type {\n",
       "        vertical-align: middle;\n",
       "    }\n",
       "\n",
       "    .dataframe tbody tr th {\n",
       "        vertical-align: top;\n",
       "    }\n",
       "\n",
       "    .dataframe thead th {\n",
       "        text-align: right;\n",
       "    }\n",
       "</style>\n",
       "<table border=\"1\" class=\"dataframe\">\n",
       "  <thead>\n",
       "    <tr style=\"text-align: right;\">\n",
       "      <th></th>\n",
       "      <th>duration_sec</th>\n",
       "      <th>start_time</th>\n",
       "      <th>end_time</th>\n",
       "      <th>start_station_id</th>\n",
       "      <th>start_station_name</th>\n",
       "      <th>start_station_latitude</th>\n",
       "      <th>start_station_longitude</th>\n",
       "      <th>end_station_id</th>\n",
       "      <th>end_station_name</th>\n",
       "      <th>end_station_latitude</th>\n",
       "      <th>end_station_longitude</th>\n",
       "      <th>bike_id</th>\n",
       "      <th>user_type</th>\n",
       "      <th>diff</th>\n",
       "      <th>distance</th>\n",
       "    </tr>\n",
       "  </thead>\n",
       "  <tbody>\n",
       "    <tr>\n",
       "      <th>0</th>\n",
       "      <td>80110</td>\n",
       "      <td>2017-12-31 16:57:39.654</td>\n",
       "      <td>2018-01-01 15:12:50.245</td>\n",
       "      <td>74</td>\n",
       "      <td>Laguna St at Hayes St</td>\n",
       "      <td>37.776435</td>\n",
       "      <td>-122.426244</td>\n",
       "      <td>43</td>\n",
       "      <td>San Francisco Public Library (Grove St at Hyde...</td>\n",
       "      <td>37.778768</td>\n",
       "      <td>-122.415929</td>\n",
       "      <td>96</td>\n",
       "      <td>Customer</td>\n",
       "      <td>80110</td>\n",
       "      <td>943.0</td>\n",
       "    </tr>\n",
       "    <tr>\n",
       "      <th>1</th>\n",
       "      <td>78800</td>\n",
       "      <td>2017-12-31 15:56:34.842</td>\n",
       "      <td>2018-01-01 13:49:55.617</td>\n",
       "      <td>284</td>\n",
       "      <td>Yerba Buena Center for the Arts (Howard St at ...</td>\n",
       "      <td>37.784872</td>\n",
       "      <td>-122.400876</td>\n",
       "      <td>96</td>\n",
       "      <td>Dolores St at 15th St</td>\n",
       "      <td>37.766210</td>\n",
       "      <td>-122.426614</td>\n",
       "      <td>88</td>\n",
       "      <td>Customer</td>\n",
       "      <td>78800</td>\n",
       "      <td>3071.0</td>\n",
       "    </tr>\n",
       "    <tr>\n",
       "      <th>3</th>\n",
       "      <td>62172</td>\n",
       "      <td>2017-12-31 17:31:10.636</td>\n",
       "      <td>2018-01-01 10:47:23.531</td>\n",
       "      <td>60</td>\n",
       "      <td>8th St at Ringold St</td>\n",
       "      <td>37.774520</td>\n",
       "      <td>-122.409449</td>\n",
       "      <td>5</td>\n",
       "      <td>Powell St BART Station (Market St at 5th St)</td>\n",
       "      <td>37.783899</td>\n",
       "      <td>-122.408445</td>\n",
       "      <td>2831</td>\n",
       "      <td>Customer</td>\n",
       "      <td>62172</td>\n",
       "      <td>1047.0</td>\n",
       "    </tr>\n",
       "    <tr>\n",
       "      <th>4</th>\n",
       "      <td>43603</td>\n",
       "      <td>2017-12-31 14:23:14.001</td>\n",
       "      <td>2018-01-01 02:29:57.571</td>\n",
       "      <td>239</td>\n",
       "      <td>Bancroft Way at Telegraph Ave</td>\n",
       "      <td>37.868813</td>\n",
       "      <td>-122.258764</td>\n",
       "      <td>247</td>\n",
       "      <td>Fulton St at Bancroft Way</td>\n",
       "      <td>37.867789</td>\n",
       "      <td>-122.265896</td>\n",
       "      <td>3167</td>\n",
       "      <td>Subscriber</td>\n",
       "      <td>43603</td>\n",
       "      <td>637.0</td>\n",
       "    </tr>\n",
       "    <tr>\n",
       "      <th>10</th>\n",
       "      <td>3292</td>\n",
       "      <td>2017-12-31 23:46:32.403</td>\n",
       "      <td>2018-01-01 00:41:24.605</td>\n",
       "      <td>284</td>\n",
       "      <td>Yerba Buena Center for the Arts (Howard St at ...</td>\n",
       "      <td>37.784872</td>\n",
       "      <td>-122.400876</td>\n",
       "      <td>22</td>\n",
       "      <td>Howard St at Beale St</td>\n",
       "      <td>37.789756</td>\n",
       "      <td>-122.394643</td>\n",
       "      <td>3058</td>\n",
       "      <td>Customer</td>\n",
       "      <td>3292</td>\n",
       "      <td>772.0</td>\n",
       "    </tr>\n",
       "  </tbody>\n",
       "</table>\n",
       "</div>"
      ],
      "text/plain": [
       "    duration_sec              start_time                end_time  \\\n",
       "0          80110 2017-12-31 16:57:39.654 2018-01-01 15:12:50.245   \n",
       "1          78800 2017-12-31 15:56:34.842 2018-01-01 13:49:55.617   \n",
       "3          62172 2017-12-31 17:31:10.636 2018-01-01 10:47:23.531   \n",
       "4          43603 2017-12-31 14:23:14.001 2018-01-01 02:29:57.571   \n",
       "10          3292 2017-12-31 23:46:32.403 2018-01-01 00:41:24.605   \n",
       "\n",
       "   start_station_id                                 start_station_name  \\\n",
       "0                74                              Laguna St at Hayes St   \n",
       "1               284  Yerba Buena Center for the Arts (Howard St at ...   \n",
       "3                60                               8th St at Ringold St   \n",
       "4               239                      Bancroft Way at Telegraph Ave   \n",
       "10              284  Yerba Buena Center for the Arts (Howard St at ...   \n",
       "\n",
       "    start_station_latitude  start_station_longitude end_station_id  \\\n",
       "0                37.776435              -122.426244             43   \n",
       "1                37.784872              -122.400876             96   \n",
       "3                37.774520              -122.409449              5   \n",
       "4                37.868813              -122.258764            247   \n",
       "10               37.784872              -122.400876             22   \n",
       "\n",
       "                                     end_station_name  end_station_latitude  \\\n",
       "0   San Francisco Public Library (Grove St at Hyde...             37.778768   \n",
       "1                               Dolores St at 15th St             37.766210   \n",
       "3        Powell St BART Station (Market St at 5th St)             37.783899   \n",
       "4                           Fulton St at Bancroft Way             37.867789   \n",
       "10                              Howard St at Beale St             37.789756   \n",
       "\n",
       "    end_station_longitude bike_id   user_type   diff  distance  \n",
       "0             -122.415929      96    Customer  80110     943.0  \n",
       "1             -122.426614      88    Customer  78800    3071.0  \n",
       "3             -122.408445    2831    Customer  62172    1047.0  \n",
       "4             -122.265896    3167  Subscriber  43603     637.0  \n",
       "10            -122.394643    3058    Customer   3292     772.0  "
      ]
     },
     "execution_count": 26,
     "metadata": {},
     "output_type": "execute_result"
    }
   ],
   "source": [
    "#Show data\n",
    "df_clean.head()"
   ]
  },
  {
   "cell_type": "markdown",
   "metadata": {
    "slideshow": {
     "slide_type": "skip"
    }
   },
   "source": [
    "### What is the structure of your dataset?\n",
    "\n",
    "> 15 varibles, 501566 records\n",
    "\n",
    "### What is/are the main feature(s) of interest in your dataset?\n",
    "\n",
    "> duration - \n",
    "user type -\n",
    "distance\n",
    "\n",
    "### What features in the dataset do you think will help support your investigation into your feature(s) of interest?\n",
    "\n",
    "> duration - \n",
    "start station latitude - \n",
    "start_station_longitude -\n",
    "end_station_latitude -\n",
    "end_station_longitude -\n",
    "user_type -\n",
    "distance"
   ]
  },
  {
   "cell_type": "markdown",
   "metadata": {
    "slideshow": {
     "slide_type": "skip"
    }
   },
   "source": [
    "## Univariate Exploration\n",
    "\n"
   ]
  },
  {
   "cell_type": "code",
   "execution_count": 27,
   "metadata": {
    "slideshow": {
     "slide_type": "skip"
    }
   },
   "outputs": [
    {
     "data": {
      "image/png": "[encoded data removed]",
      "text/plain": [
       "<Figure size 432x288 with 1 Axes>"
      ]
     },
     "metadata": {
      "needs_background": "light"
     },
     "output_type": "display_data"
    }
   ],
   "source": [
    "binsize = 0.1\n",
    "bins = 10 ** np.arange(1.785330, 4.936358 + binsize, binsize)\n",
    "ticks = [30,100,300,1000,3000,10000,30000,100000]\n",
    "labls = ['{}'.format(v) for v in ticks]\n",
    "plt.hist(data = df, x ='duration_sec', bins = bins);\n",
    "plt.xscale(\"log\");\n",
    "plt.title('Distribution of Duration')\n",
    "plt.xlabel('Duration')\n",
    "plt.ylabel('Number of Users')\n",
    "plt.xticks(ticks,labls);"
   ]
  },
  {
   "cell_type": "markdown",
   "metadata": {
    "slideshow": {
     "slide_type": "skip"
    }
   },
   "source": [
    "Note: The above figure shows that the duration of the trip is mostly around 100 sec and 3000 sec. We want to see if the distance \n",
    "or the user type affect the duration and how."
   ]
  },
  {
   "cell_type": "code",
   "execution_count": 28,
   "metadata": {
    "slideshow": {
     "slide_type": "skip"
    }
   },
   "outputs": [
    {
     "data": {
      "image/png": "[encoded data removed]",
      "text/plain": [
       "<Figure size 432x288 with 1 Axes>"
      ]
     },
     "metadata": {
      "needs_background": "light"
     },
     "output_type": "display_data"
    }
   ],
   "source": [
    "\n",
    "binsize = 500\n",
    "bins = np.arange(0, (2133+ 1.5*1247)+binsize, binsize)\n",
    "plt.title('Distribution of Distance')\n",
    "plt.xlabel('Distance')\n",
    "plt.ylabel('Number of Users')\n",
    "plt.hist(data = df_clean, x = 'distance', bins = bins);"
   ]
  },
  {
   "cell_type": "markdown",
   "metadata": {
    "slideshow": {
     "slide_type": "skip"
    }
   },
   "source": [
    "Note: The above figure shows that the trip distance is mostly arond 0 to 2500. We want to see if the duration or the user type affect the distance and how."
   ]
  },
  {
   "cell_type": "code",
   "execution_count": 29,
   "metadata": {
    "slideshow": {
     "slide_type": "slide"
    }
   },
   "outputs": [
    {
     "data": {
      "image/png": "[encoded data removed]",
      "text/plain": [
       "<Figure size 576x360 with 1 Axes>"
      ]
     },
     "metadata": {
      "needs_background": "light"
     },
     "output_type": "display_data"
    }
   ],
   "source": [
    "plt.figure(figsize=[8,5])\n",
    "plt.bar(x = df_clean.\tuser_type.value_counts().keys(), height = df_clean.\tuser_type.value_counts() )\n",
    "plt.title('Distribution of User Type')\n",
    "plt.xlabel('User Type')\n",
    "plt.ylabel('Number of Users')\n",
    "plt.show()"
   ]
  },
  {
   "cell_type": "markdown",
   "metadata": {
    "slideshow": {
     "slide_type": "skip"
    }
   },
   "source": [
    "Note: The above figure shows that the most user type is subscriber. We want to see how the duration interact with each user type."
   ]
  },
  {
   "cell_type": "markdown",
   "metadata": {
    "slideshow": {
     "slide_type": "subslide"
    }
   },
   "source": [
    "## Distribution of User Type\n",
    "> The number of \"subscribers\" user type is five times higher than the number of customer users. We want to see how the duration interacts with each user type. "
   ]
  },
  {
   "cell_type": "markdown",
   "metadata": {
    "slideshow": {
     "slide_type": "skip"
    }
   },
   "source": [
    "### Discuss the distribution(s) of your variable(s) of interest. Were there any unusual points? Did you need to perform any transformations?\n",
    "\n",
    "> The duration distribution is not normal distrubution it is right skewed. The most frequent duration is 360 sec. We want to see if the distance or the user type affect the duration and how.\n",
    "\n",
    "> The distance distribution is not normal distrubution it is right skewed. The most frequent distance is 1300. We want to see if the duration or the user type affect the duration and how.\n",
    "\n",
    ">The number of \"subscribers\" user type is five times higher than the number of customer users. We want to see how the duration interacts with each user type. \n",
    "\n",
    "### Of the features you investigated, were there any unusual distributions? Did you perform any operations on the data to tidy, adjust, or change the form of the data? If so, why did you do this?\n",
    "\n",
    ">The distance distribution includes extreems values wich affec the analisys"
   ]
  },
  {
   "cell_type": "markdown",
   "metadata": {
    "slideshow": {
     "slide_type": "slide"
    }
   },
   "source": [
    "## Bivariate Exploration\n",
    "\n"
   ]
  },
  {
   "cell_type": "code",
   "execution_count": 30,
   "metadata": {
    "slideshow": {
     "slide_type": "skip"
    }
   },
   "outputs": [
    {
     "data": {
      "text/html": [
       "<div>\n",
       "<style scoped>\n",
       "    .dataframe tbody tr th:only-of-type {\n",
       "        vertical-align: middle;\n",
       "    }\n",
       "\n",
       "    .dataframe tbody tr th {\n",
       "        vertical-align: top;\n",
       "    }\n",
       "\n",
       "    .dataframe thead th {\n",
       "        text-align: right;\n",
       "    }\n",
       "</style>\n",
       "<table border=\"1\" class=\"dataframe\">\n",
       "  <thead>\n",
       "    <tr style=\"text-align: right;\">\n",
       "      <th></th>\n",
       "      <th>duration_sec</th>\n",
       "      <th>start_station_latitude</th>\n",
       "      <th>start_station_longitude</th>\n",
       "      <th>end_station_latitude</th>\n",
       "      <th>end_station_longitude</th>\n",
       "      <th>diff</th>\n",
       "      <th>distance</th>\n",
       "    </tr>\n",
       "  </thead>\n",
       "  <tbody>\n",
       "    <tr>\n",
       "      <th>duration_sec</th>\n",
       "      <td>1.000000</td>\n",
       "      <td>0.003418</td>\n",
       "      <td>-0.006922</td>\n",
       "      <td>0.004337</td>\n",
       "      <td>-0.008833</td>\n",
       "      <td>0.999987</td>\n",
       "      <td>0.104858</td>\n",
       "    </tr>\n",
       "    <tr>\n",
       "      <th>start_station_latitude</th>\n",
       "      <td>0.003418</td>\n",
       "      <td>1.000000</td>\n",
       "      <td>-0.713263</td>\n",
       "      <td>0.986970</td>\n",
       "      <td>-0.719614</td>\n",
       "      <td>0.003428</td>\n",
       "      <td>0.059322</td>\n",
       "    </tr>\n",
       "    <tr>\n",
       "      <th>start_station_longitude</th>\n",
       "      <td>-0.006922</td>\n",
       "      <td>-0.713263</td>\n",
       "      <td>1.000000</td>\n",
       "      <td>-0.720436</td>\n",
       "      <td>0.991573</td>\n",
       "      <td>-0.006932</td>\n",
       "      <td>-0.110179</td>\n",
       "    </tr>\n",
       "    <tr>\n",
       "      <th>end_station_latitude</th>\n",
       "      <td>0.004337</td>\n",
       "      <td>0.986970</td>\n",
       "      <td>-0.720436</td>\n",
       "      <td>1.000000</td>\n",
       "      <td>-0.721728</td>\n",
       "      <td>0.004347</td>\n",
       "      <td>0.065975</td>\n",
       "    </tr>\n",
       "    <tr>\n",
       "      <th>end_station_longitude</th>\n",
       "      <td>-0.008833</td>\n",
       "      <td>-0.719614</td>\n",
       "      <td>0.991573</td>\n",
       "      <td>-0.721728</td>\n",
       "      <td>1.000000</td>\n",
       "      <td>-0.008844</td>\n",
       "      <td>-0.100665</td>\n",
       "    </tr>\n",
       "    <tr>\n",
       "      <th>diff</th>\n",
       "      <td>0.999987</td>\n",
       "      <td>0.003428</td>\n",
       "      <td>-0.006932</td>\n",
       "      <td>0.004347</td>\n",
       "      <td>-0.008844</td>\n",
       "      <td>1.000000</td>\n",
       "      <td>0.104896</td>\n",
       "    </tr>\n",
       "    <tr>\n",
       "      <th>distance</th>\n",
       "      <td>0.104858</td>\n",
       "      <td>0.059322</td>\n",
       "      <td>-0.110179</td>\n",
       "      <td>0.065975</td>\n",
       "      <td>-0.100665</td>\n",
       "      <td>0.104896</td>\n",
       "      <td>1.000000</td>\n",
       "    </tr>\n",
       "  </tbody>\n",
       "</table>\n",
       "</div>"
      ],
      "text/plain": [
       "                         duration_sec  start_station_latitude  \\\n",
       "duration_sec                 1.000000                0.003418   \n",
       "start_station_latitude       0.003418                1.000000   \n",
       "start_station_longitude     -0.006922               -0.713263   \n",
       "end_station_latitude         0.004337                0.986970   \n",
       "end_station_longitude       -0.008833               -0.719614   \n",
       "diff                         0.999987                0.003428   \n",
       "distance                     0.104858                0.059322   \n",
       "\n",
       "                         start_station_longitude  end_station_latitude  \\\n",
       "duration_sec                           -0.006922              0.004337   \n",
       "start_station_latitude                 -0.713263              0.986970   \n",
       "start_station_longitude                 1.000000             -0.720436   \n",
       "end_station_latitude                   -0.720436              1.000000   \n",
       "end_station_longitude                   0.991573             -0.721728   \n",
       "diff                                   -0.006932              0.004347   \n",
       "distance                               -0.110179              0.065975   \n",
       "\n",
       "                         end_station_longitude      diff  distance  \n",
       "duration_sec                         -0.008833  0.999987  0.104858  \n",
       "start_station_latitude               -0.719614  0.003428  0.059322  \n",
       "start_station_longitude               0.991573 -0.006932 -0.110179  \n",
       "end_station_latitude                 -0.721728  0.004347  0.065975  \n",
       "end_station_longitude                 1.000000 -0.008844 -0.100665  \n",
       "diff                                 -0.008844  1.000000  0.104896  \n",
       "distance                             -0.100665  0.104896  1.000000  "
      ]
     },
     "execution_count": 30,
     "metadata": {},
     "output_type": "execute_result"
    }
   ],
   "source": [
    "#Create correition table\n",
    "df_clean.corr()"
   ]
  },
  {
   "cell_type": "code",
   "execution_count": 31,
   "metadata": {
    "slideshow": {
     "slide_type": "skip"
    }
   },
   "outputs": [],
   "source": [
    "# Create correltion matrix\n",
    "corrMatrix = df_clean.corr()"
   ]
  },
  {
   "cell_type": "code",
   "execution_count": 32,
   "metadata": {
    "slideshow": {
     "slide_type": "skip"
    }
   },
   "outputs": [
    {
     "data": {
      "text/plain": [
       "<matplotlib.axes._subplots.AxesSubplot at 0x1efe40ff488>"
      ]
     },
     "execution_count": 32,
     "metadata": {},
     "output_type": "execute_result"
    },
    {
     "data": {
      "image/png": "[encoded data removed]",
      "text/plain": [
       "<Figure size 1440x720 with 2 Axes>"
      ]
     },
     "metadata": {
      "needs_background": "light"
     },
     "output_type": "display_data"
    }
   ],
   "source": [
    "# Plot correlation matrix\n",
    "plt.figure(figsize=(20,10))\n",
    "\n",
    "sb.heatmap(corrMatrix, annot = True, fmt='.1g', vmin=-1, vmax=1, center= 0, cmap= 'coolwarm', linewidths=3, linecolor='black')\n"
   ]
  },
  {
   "cell_type": "markdown",
   "metadata": {
    "slideshow": {
     "slide_type": "skip"
    }
   },
   "source": [
    "Note: The correlation matrix shown above indicate there might be correlations between the following pairs of variables: (start_station_id, end_station_id), (start_station_latitude, start_station_longitude), and (end_station_latitude, end_station_longitude). However, there are no strong evidences to support these.\n",
    "\n"
   ]
  },
  {
   "cell_type": "code",
   "execution_count": 33,
   "metadata": {
    "slideshow": {
     "slide_type": "skip"
    }
   },
   "outputs": [
    {
     "data": {
      "image/png": "[encoded data removed]",
      "text/plain": [
       "<Figure size 576x360 with 1 Axes>"
      ]
     },
     "metadata": {
      "needs_background": "light"
     },
     "output_type": "display_data"
    }
   ],
   "source": [
    "\n",
    "plt.figure(figsize=[8,5])\n",
    "plt.scatter(( df_clean['distance']), df_clean['duration_sec'], alpha = 0.25, marker = '.' )\n",
    "\n",
    "plt.title('Trip Duration and Age')\n",
    "plt.xlabel('distance')\n",
    "plt.ylabel('Duration_sec')\n",
    "plt.show()"
   ]
  },
  {
   "cell_type": "markdown",
   "metadata": {
    "slideshow": {
     "slide_type": "skip"
    }
   },
   "source": [
    "Note: As you can see, values are very widespread to see the graph, therefore we will not take values graeter than 20000"
   ]
  },
  {
   "cell_type": "code",
   "execution_count": 34,
   "metadata": {
    "slideshow": {
     "slide_type": "skip"
    }
   },
   "outputs": [],
   "source": [
    "# Drop values grater than 20000\n",
    "df_clean = df_clean[df_clean['distance'] < 20000]"
   ]
  },
  {
   "cell_type": "code",
   "execution_count": 35,
   "metadata": {
    "slideshow": {
     "slide_type": "slide"
    }
   },
   "outputs": [
    {
     "data": {
      "image/png": "[encoded data removed]",
      "text/plain": [
       "<Figure size 576x360 with 1 Axes>"
      ]
     },
     "metadata": {
      "needs_background": "light"
     },
     "output_type": "display_data"
    }
   ],
   "source": [
    "\n",
    "plt.figure(figsize=[8,5])\n",
    "plt.scatter(( df_clean['distance']), df_clean['duration_sec'], alpha = 0.25, marker = '.' )\n",
    "\n",
    "plt.title('Trip Duration and Distance')\n",
    "plt.xlabel('Distance')\n",
    "plt.ylabel('Duration_sec')\n",
    "plt.show()"
   ]
  },
  {
   "cell_type": "markdown",
   "metadata": {
    "slideshow": {
     "slide_type": "skip"
    }
   },
   "source": [
    "Note: The above figure shows that the duration is higher when the distance is less "
   ]
  },
  {
   "cell_type": "markdown",
   "metadata": {
    "slideshow": {
     "slide_type": "subslide"
    }
   },
   "source": [
    "## Trip Duration and Distance \n",
    "The duration is higher when the distance is less "
   ]
  },
  {
   "cell_type": "code",
   "execution_count": 36,
   "metadata": {
    "slideshow": {
     "slide_type": "skip"
    }
   },
   "outputs": [
    {
     "data": {
      "image/png": "[encoded data removed]",
      "text/plain": [
       "<Figure size 720x360 with 1 Axes>"
      ]
     },
     "metadata": {
      "needs_background": "light"
     },
     "output_type": "display_data"
    }
   ],
   "source": [
    "plt.figure(figsize = [10, 5])\n",
    "sb.boxplot(data = df, x = 'user_type', y = 'duration_sec', )\n",
    "plt.title('Trip Duration and User Type')\n",
    "plt.xlabel('User Type')\n",
    "plt.ylabel('Duration_sec')\n",
    "plt.show()\n"
   ]
  },
  {
   "cell_type": "markdown",
   "metadata": {
    "slideshow": {
     "slide_type": "skip"
    }
   },
   "source": [
    "As you can see, values are very widespread to see a box plot, therefore we will take the interval between -10 and 2000"
   ]
  },
  {
   "cell_type": "code",
   "execution_count": 37,
   "metadata": {
    "slideshow": {
     "slide_type": "slide"
    }
   },
   "outputs": [
    {
     "data": {
      "image/png": "[encoded data removed]",
      "text/plain": [
       "<Figure size 720x360 with 1 Axes>"
      ]
     },
     "metadata": {
      "needs_background": "light"
     },
     "output_type": "display_data"
    }
   ],
   "source": [
    "\n",
    "plt.figure(figsize = [10, 5])\n",
    "sb.boxplot(data = df, x = 'user_type', y = 'duration_sec', )\n",
    "plt.ylim([-10, 2000])\n",
    "plt.title('Trip Duration and User Type')\n",
    "plt.xlabel('User Type')\n",
    "plt.ylabel('Duration_sec')\n",
    "plt.show()"
   ]
  },
  {
   "cell_type": "markdown",
   "metadata": {
    "slideshow": {
     "slide_type": "skip"
    }
   },
   "source": [
    "Note: From the above figure we can see that higher percentage of customer rides longer trips then subscriber although number of subscriber riders are very high then customer."
   ]
  },
  {
   "cell_type": "markdown",
   "metadata": {
    "slideshow": {
     "slide_type": "subslide"
    }
   },
   "source": [
    "## Trip Duration and User Type\n",
    "subscribers ride much shorter trips compared to customers"
   ]
  },
  {
   "cell_type": "markdown",
   "metadata": {
    "slideshow": {
     "slide_type": "skip"
    }
   },
   "source": [
    "### Talk about some of the relationships you observed in this part of the investigation. How did the feature(s) of interest vary with other features in the dataset?\n",
    "\n",
    "> The user type \"customer\" has an avarge trip duration higher the the user type \"subscribers\". On the other hand, in the previose figure the number of \"subscribers\" user type was highr \n",
    "\n"
   ]
  },
  {
   "cell_type": "markdown",
   "metadata": {
    "slideshow": {
     "slide_type": "slide"
    }
   },
   "source": [
    "## Multivariate Exploration\n",
    "\n"
   ]
  },
  {
   "cell_type": "code",
   "execution_count": 38,
   "metadata": {
    "slideshow": {
     "slide_type": "slide"
    }
   },
   "outputs": [
    {
     "data": {
      "image/png": "[encoded data removed]",
      "text/plain": [
       "<Figure size 720x360 with 3 Axes>"
      ]
     },
     "metadata": {
      "needs_background": "light"
     },
     "output_type": "display_data"
    }
   ],
   "source": [
    "\n",
    "xbin = np.arange(0,17500, 500)\n",
    "ybin = np.arange(0, 4039.5+500, 500)\n",
    "\n",
    "g = sb.FacetGrid(data = df_clean, col = 'user_type',height=5)\n",
    "g.map(plt.hist2d, 'distance','duration_sec',cmin=0.5,cmap = 'viridis_r',bins=[xbin, ybin]);\n",
    "plt.colorbar();"
   ]
  },
  {
   "cell_type": "markdown",
   "metadata": {
    "slideshow": {
     "slide_type": "subslide"
    }
   },
   "source": [
    "Note: The user type customer takes more duration percentages and fewer distance percentages, while the user type subscriber takes less distance and more duration. Considering that number of subscribers is very high than the number of customer users in the dataset."
   ]
  },
  {
   "cell_type": "markdown",
   "metadata": {
    "slideshow": {
     "slide_type": "skip"
    }
   },
   "source": [
    "\n",
    "\n",
    "### Were there any interesting or surprising interactions between features?\n",
    "\n",
    "> The long distance do not cause a long duration trip. Moreover, subscribers ride much shorter trips compared to customers but covers more distance. Also, there are subscribers users using the bike sharing system than casual customers. "
   ]
  },
  {
   "cell_type": "code",
   "execution_count": null,
   "metadata": {
    "slideshow": {
     "slide_type": "skip"
    }
   },
   "outputs": [],
   "source": [
    "!jupyter nbconvert exploration.ipynb --to slides --template output-toggle.tpl --post serve"
   ]
  }
 ],
 "metadata": {
  "celltoolbar": "Slideshow",
  "kernelspec": {
   "display_name": "Python 3",
   "language": "python",
   "name": "python3"
  },
  "language_info": {
   "codemirror_mode": {
    "name": "ipython",
    "version": 3
   },
   "file_extension": ".py",
   "mimetype": "text/x-python",
   "name": "python",
   "nbconvert_exporter": "python",
   "pygments_lexer": "ipython3",
   "version": "3.7.6"
  }
 },
 "nbformat": 4,
 "nbformat_minor": 2
}
